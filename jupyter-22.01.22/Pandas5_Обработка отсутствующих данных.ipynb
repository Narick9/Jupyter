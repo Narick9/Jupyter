{
 "cells": [
  {
   "cell_type": "markdown",
   "metadata": {},
   "source": [
    "Muslimov Arthur, Last Checkpoint: 03/31/2020    <br/>\n",
    "                 Last Checkpoint: 12/19/2021"
   ]
  },
  {
   "cell_type": "markdown",
   "metadata": {},
   "source": [
    "Реальные данные редко бывают очищенными и однородными. В частности,       <br/>\n",
    "во многих интересных наборах данные некоторое количество данных           <br/>\n",
    "отсутствует. Ещё более затрудняет работу то, что в различных источниках   <br/>\n",
    "отсутствующие данные могут быть помечены различным образом.        <br/>\n",
    "                                                                          <br/>\n",
    "В это разделе мы обсудим общие соображения, касающиеся отсутствующих      <br/>\n",
    "данных, обсудим способы представления их библиотекой Pandas и             <br/>\n",
    "продемонстрируем  встроенные инструменты библиотеки Pandas для обработки  <br/>\n",
    "отсутствующих данных в языке Python. Здесь и далее мы будем называть      <br/>\n",
    "отсутствующие данные ***null***, NaN или NA-значениями."
   ]
  },
  {
   "cell_type": "code",
   "execution_count": 1,
   "metadata": {},
   "outputs": [
    {
     "name": "stdout",
     "output_type": "stream",
     "text": [
      "Exception reporting mode: Minimal\n"
     ]
    },
    {
     "data": {
      "application/javascript": "IPython.notebook.set_autosave_interval(0)"
     },
     "metadata": {},
     "output_type": "display_data"
    },
    {
     "name": "stdout",
     "output_type": "stream",
     "text": [
      "Autosave disabled\n"
     ]
    }
   ],
   "source": [
    "import numpy as np\n",
    "import pandas as pd\n",
    "\n",
    "%xmode Minimal\n",
    "%autosave 0"
   ]
  },
  {
   "cell_type": "markdown",
   "metadata": {},
   "source": [
    "# Компромиссы при обозначении отсутствующих данных"
   ]
  },
  {
   "cell_type": "markdown",
   "metadata": {},
   "source": [
    "Существуют несколько схем для обозначения пропущенных данных.         <br/>\n",
    "Они основаны на одной из двух стратегий: использование ***маски***,   <br/>\n",
    "отмечающей отсутвующие данные, или ***значения-индикаторы***          <br/>\n",
    "(sentinel value), говорящие, что здесь нет ничего важного."
   ]
  },
  {
   "cell_type": "markdown",
   "metadata": {},
   "source": [
    "Маска может быть или отдельным булевым массивом или отдельным  <br/>\n",
    "битом у каждого значения, можно сказать, биркой данных."
   ]
  },
  {
   "cell_type": "markdown",
   "metadata": {},
   "source": [
    "Значением-индикатором может быть или специально отведённое значение,      <br/>\n",
    "например 9999, или какай-нибудь редкая комбинация битов. Ещё им может     <br/>\n",
    "стать более глобальное значение, например для `float` данных это `NaN` -  <br/>\n",
    "\\- специального значение, всключённого в спецификации IEEE для `float`."
   ]
  },
  {
   "cell_type": "markdown",
   "metadata": {},
   "source": [
    "В каждом из подходов есть свои компромиссы: маска требует дополнительной  <br/>\n",
    "памяти и процессорного времени, а значение-индекатор сокращает диапозон   <br/>\n",
    "доступных данных и может потребовать выполнения дополнительной            <br/>\n",
    "(зачастую неоптимизированной) логики. Общие  специальные значения, такие  <br/>\n",
    "как NaN, доступны далеко не для всех типов данных."
   ]
  },
  {
   "cell_type": "markdown",
   "metadata": {},
   "source": [
    "Как и в большинестве случав, где нет универсального решения, различные языки      <br/>\n",
    "и системы использует различные методы. Например, язык R применяет заранее         <br/>\n",
    "зарезервированные комбинации битов для каждого типа данных как бирка для          <br/>\n",
    "отсутствующих данных. А система SciDB вообще к каждой ячейки данных присоединяет  <br/>\n",
    "дополнительный байт для индикации NA состояния."
   ]
  },
  {
   "cell_type": "markdown",
   "metadata": {},
   "source": [
    "# Отсутствующие данные в библиотеки Pandas"
   ]
  },
  {
   "cell_type": "markdown",
   "metadata": {},
   "source": [
    "Как мы знаем, Pandas основан на NumPy, а значит и зависит от него. А в NumPy   <br/>\n",
    "есть только один встроенный индикатор - `NaN`, и он создан для `float` значений."
   ]
  },
  {
   "cell_type": "markdown",
   "metadata": {},
   "source": [
    "Pandas мог бы использовать метод языка R, задавая в качестве индикатора         <br/>\n",
    "комбинации битов для каждого типа данных. Но, это было бы очень громоздким      <br/>\n",
    "решением. Если в R всего четыре типа данных, то в NumPy их ***четырнадцать***!  <br/>\n",
    "Это привело бы к громадным накладным расходам в разнообразных частных случаях   <br/>\n",
    "операций, а может даже пришлось бы строить свою отдельную ветвь пакета NumPy.   <br/>\n",
    "А выделение отдельного бита на маску будет критично для малобитных типов."
   ]
  },
  {
   "cell_type": "markdown",
   "metadata": {},
   "source": [
    "NumPy поддерживает использование маскированных массив, т.е. массивов данных,  <br/>\n",
    "которым в придачу идут ещё и булевые массивы-маски, обозначающие \"хорошие\"    <br/>\n",
    "и \"плохие\" данные. Но накладные расходы на хранение, вычисление и поддержку   <br/>\n",
    "кода сделали этот вариант малопривлекательным."
   ]
  },
  {
   "cell_type": "markdown",
   "metadata": {},
   "source": [
    "В итоге в Pandas было решено использовать индикаторы,     <br/>\n",
    "а также уже существующие пустые значения: `NaN` значение  <br/>\n",
    "для `float` данных и объект `None` из Python. Здесь тоже  <br/>\n",
    "есть свои недостатки, но на практике в большинстве        <br/>\n",
    "случавет оно представляет собой удачный компромисс."
   ]
  },
  {
   "cell_type": "markdown",
   "metadata": {},
   "source": [
    "### None: отсутствующие данные в языке Python"
   ]
  },
  {
   "cell_type": "markdown",
   "metadata": {},
   "source": [
    "Первое из используемых Pandas значений-индикаторов - None, объект-одиночка  <br/>\n",
    "Python. Т.к. None - объект Python, его нельзя использовать в произвольных   <br/>\n",
    "массивах NumPy/Pandas, а только в массивах с типом `object` из Python."
   ]
  },
  {
   "cell_type": "code",
   "execution_count": 2,
   "metadata": {},
   "outputs": [
    {
     "name": "stdout",
     "output_type": "stream",
     "text": [
      "size in bytes: 32\n"
     ]
    },
    {
     "data": {
      "text/plain": [
       "array([1, None, 3, 4], dtype=object)"
      ]
     },
     "execution_count": 2,
     "metadata": {},
     "output_type": "execute_result"
    }
   ],
   "source": [
    "vals1 = np.array([1, None, 3, 4])\n",
    "print('size in bytes:', vals1.nbytes)  # наверное отъест он много\n",
    "vals1"
   ]
  },
  {
   "cell_type": "markdown",
   "metadata": {},
   "source": [
    "Наилучшим общим типом NumPy посчитал объект Python. Это может быть     <br/>\n",
    "полезно, т.к. теперь наш массив может хранить почти всё, но вся        <br/>\n",
    "прелесть массивов улетучилась, т.к. теперь за логику отвечает Python."
   ]
  },
  {
   "cell_type": "code",
   "execution_count": 3,
   "metadata": {},
   "outputs": [
    {
     "name": "stdout",
     "output_type": "stream",
     "text": [
      "object:\n",
      "55.7 ms ± 281 µs per loop (mean ± std. dev. of 7 runs, 10 loops each)\n",
      "2.27 ms ± 112 µs per loop (mean ± std. dev. of 7 runs, 100 loops each)\n"
     ]
    }
   ],
   "source": [
    "print(\"object:\")\n",
    "%timeit np.arange(1e6, dtype=object).sum()\n",
    "                    # или 1000000 (1m), а можно ещё 1E6\n",
    "%timeit np.arange(1e6, dtype=int).sum()"
   ]
  },
  {
   "cell_type": "markdown",
   "metadata": {},
   "source": [
    "Ещё `None` не знает как вести себя при операциях с числами, поэтому будет исключение."
   ]
  },
  {
   "cell_type": "code",
   "execution_count": 4,
   "metadata": {},
   "outputs": [
    {
     "name": "stdout",
     "output_type": "stream",
     "text": [
      "End of the world!\n"
     ]
    }
   ],
   "source": [
    "try:  # давненько я этим не пользовался\n",
    "    vals1 + 1\n",
    "except TypeError:\n",
    "    print(\"End of the world!\")"
   ]
  },
  {
   "cell_type": "markdown",
   "metadata": {},
   "source": [
    "### NaN: отсутствующие числовые данные"
   ]
  },
  {
   "cell_type": "markdown",
   "metadata": {},
   "source": [
    "Ещё одно уже существующее пустое значение - это `NaN`. Это специальное значение  <br/>\n",
    "с плавающей точкой, распознаваемое всеми системами, испольующими стандартное     <br/>\n",
    "IEEE-представление чисел с плавающей точкой (в общем, IEEE - это религия)."
   ]
  },
  {
   "cell_type": "code",
   "execution_count": 7,
   "metadata": {},
   "outputs": [
    {
     "name": "stdout",
     "output_type": "stream",
     "text": [
      "size in bytes: 32\n",
      "type: float64\n"
     ]
    }
   ],
   "source": [
    "vals2 = np.array([1, np.nan, 3, 4])   # здесь уже будет строгая типизация, а значит и хорошая\n",
    "                                      #   скорость\n",
    "print(\"size in bytes:\", vals2.nbytes) # потреблять, конечно, здесь он станет не меньше, т.к. по\n",
    "print(\"type:\", vals2.dtype)           #   умолчанию NumPy поставит тип float64, но можно и\n",
    "                                      #   ограничиться float16"
   ]
  },
  {
   "cell_type": "markdown",
   "metadata": {},
   "source": [
    "Тип у нас установлен, и это не `object`. Это значит, операции будут проходить  <br/>\n",
    "по скомпилированному коду. Но следует помнить, что `NaN` чем-то подобен        <br/>\n",
    "\"вирусу данных\". Любой объект, к которому он \"прикасается\", становится `NaN`."
   ]
  },
  {
   "cell_type": "code",
   "execution_count": 8,
   "metadata": {},
   "outputs": [
    {
     "data": {
      "text/plain": [
       "nan"
      ]
     },
     "execution_count": 8,
     "metadata": {},
     "output_type": "execute_result"
    }
   ],
   "source": [
    "1 + np.nan  # Спасайся кто может!"
   ]
  },
  {
   "cell_type": "code",
   "execution_count": 9,
   "metadata": {},
   "outputs": [
    {
     "data": {
      "text/plain": [
       "nan"
      ]
     },
     "execution_count": 9,
     "metadata": {},
     "output_type": "execute_result"
    }
   ],
   "source": [
    "0 * np.nan  # Неубеваемая болезнь"
   ]
  },
  {
   "cell_type": "code",
   "execution_count": 10,
   "metadata": {},
   "outputs": [
    {
     "name": "stdout",
     "output_type": "stream",
     "text": [
      "Победа! Но какой ценой...\n"
     ]
    }
   ],
   "source": [
    "try:\n",
    "    np.nan / 0  # Приходится идти на крайние меры\n",
    "except ZeroDivisionError:\n",
    "    print(\"Победа! Но какой ценой...\")"
   ]
  },
  {
   "cell_type": "markdown",
   "metadata": {},
   "source": [
    "Это значит, что обычные операции агрегирования становятся бесполезными."
   ]
  },
  {
   "cell_type": "code",
   "execution_count": 11,
   "metadata": {},
   "outputs": [
    {
     "data": {
      "text/plain": [
       "(nan, nan, nan)"
      ]
     },
     "execution_count": 11,
     "metadata": {},
     "output_type": "execute_result"
    }
   ],
   "source": [
    "vals2.sum(), vals2.min(), vals2.max()  # Падшие города"
   ]
  },
  {
   "cell_type": "markdown",
   "metadata": {},
   "source": [
    "Но, как ты помнишь из таблицы прошлой главы, есть специализированные  <br/>\n",
    "версии функций, игнорирующие пропущенные значения."
   ]
  },
  {
   "cell_type": "code",
   "execution_count": 12,
   "metadata": {},
   "outputs": [
    {
     "data": {
      "text/plain": [
       "(8.0, 1.0, 4.0)"
      ]
     },
     "execution_count": 12,
     "metadata": {},
     "output_type": "execute_result"
    }
   ],
   "source": [
    "np.nansum(vals2), np.nanmin(vals2), np.nanmax(vals2)  # Вакцина найдена!"
   ]
  },
  {
   "cell_type": "markdown",
   "metadata": {},
   "source": [
    "Не забывай, что `NaN` - значение с плавающей точкой.  <br/>\n",
    "Аналога для других типов нет."
   ]
  },
  {
   "cell_type": "markdown",
   "metadata": {},
   "source": [
    "### Значения `NaN` и `None` в библиотеке Pandas"
   ]
  },
  {
   "cell_type": "markdown",
   "metadata": {},
   "source": [
    "Как и у `NaN`, так и у `None` есть своё назначение,     <br/>\n",
    "и Pandas делает их практически взаимозаменяемыми путём  <br/>\n",
    "преобразования одного в другое в определённых случаях."
   ]
  },
  {
   "cell_type": "code",
   "execution_count": 13,
   "metadata": {},
   "outputs": [
    {
     "data": {
      "text/plain": [
       "0    1.0\n",
       "1    NaN\n",
       "2    2.0\n",
       "3    NaN\n",
       "dtype: float64"
      ]
     },
     "execution_count": 13,
     "metadata": {},
     "output_type": "execute_result"
    }
   ],
   "source": [
    "pd.Series([1, np.nan, 2, None])"
   ]
  },
  {
   "cell_type": "markdown",
   "metadata": {},
   "source": [
    "Лучше представлять так: если в массиве кроме `None` больше нет    <br/>\n",
    "`object` объектов, то Pandas заменяет `None` на `np.nan` и всё    <br/>\n",
    "сводится к `float`, т.к. он станет лучшим общим типом. Если же    <br/>\n",
    "другие `object`-объекты всё-таки есть, то всё остаётся как есть,    <br/>\n",
    "и оптимальным типов станет `object`."
   ]
  },
  {
   "cell_type": "code",
   "execution_count": 14,
   "metadata": {},
   "outputs": [
    {
     "data": {
      "text/plain": [
       "0    0\n",
       "1    1\n",
       "dtype: int64"
      ]
     },
     "execution_count": 14,
     "metadata": {},
     "output_type": "execute_result"
    }
   ],
   "source": [
    "x = pd.Series(range(2), dtype=int)\n",
    "x  # чистокровный int-массив"
   ]
  },
  {
   "cell_type": "code",
   "execution_count": 15,
   "metadata": {},
   "outputs": [
    {
     "data": {
      "text/plain": [
       "0    NaN\n",
       "1    1.0\n",
       "dtype: float64"
      ]
     },
     "execution_count": 15,
     "metadata": {},
     "output_type": "execute_result"
    }
   ],
   "source": [
    "x[0] = None  # замещаем один int на object\n",
    "x  # Pandas увидит это и сделает всё с наименьшими потерями"
   ]
  },
  {
   "cell_type": "markdown",
   "metadata": {},
   "source": [
    "Автор говорит, что в Pandas хотели добавить целочисленный NA,   <br/>\n",
    "но на момент написания книги (т.е. 2016 год), ещё не включили."
   ]
  },
  {
   "cell_type": "markdown",
   "metadata": {},
   "source": [
    "> Хотя подобный подход со значениями-индикаторами/приведением типов   <br/>\n",
    "> библиотеки Pandas может показаться несколько вычурным по сравнению  <br/>\n",
    "> с более унифицированным подходом к NA-значениям в таких             <br/> \n",
    "> предметно-ориентированных языках, как R, на практике он прекрасно   <br/>\n",
    "> работает и на моей памяти лишь изредка вызывал проблемы."
   ]
  },
  {
   "cell_type": "markdown",
   "metadata": {},
   "source": [
    "А вот и правила повышающего приведения типов в Pandas в случае наличия NA-значений.\n",
    "\n",
    "**Класс типов**    | **Преобразование при хранениии NA-значений** | **Значение-индикатор NA**\n",
    ":------------------|:---------------------------------------------|:-------------------------\n",
    "С плавающей точкой | Без изменений                                | `np.nan`\n",
    "Объект (object)    | Без изменений                                | `None` или `np.nan`\n",
    "Целое число        | Приводится к `float64`                       | `np.nan`\n",
    "Булево значение    | Приводится к `object`                        | `None` или `np.nan`"
   ]
  },
  {
   "cell_type": "markdown",
   "metadata": {},
   "source": [
    "Имей ввиду, что строки и даже символы (которые по факту в Python тоже строки) - это `object`."
   ]
  },
  {
   "cell_type": "markdown",
   "metadata": {},
   "source": [
    "# Операции над пустыми значениями"
   ]
  },
  {
   "cell_type": "markdown",
   "metadata": {},
   "source": [
    "Библиотека Pandas рассматривает значения `None` и `NaN` как     <br/>\n",
    "взаимозаменямые пустые значения. Существует несколько методов,  <br/>\n",
    "упрощающие жизнь при работе с массивами, хранящими их."
   ]
  },
  {
   "cell_type": "markdown",
   "metadata": {},
   "source": [
    "- `isnull()` - генерирует булеву маску для отсутствующих значений.\n",
    "- `notnull()` - противоположность метода `isnull()`.\n",
    "- `dropna()` - возвращает отфильтрованный вариант данных.\n",
    "- `fillna()` - возвращает копию данных, в которой пропущенные значения заполнены или восстановлены."
   ]
  },
  {
   "cell_type": "markdown",
   "metadata": {},
   "source": [
    "Ну и на последок, кратко рассмотрим и продемонстрируем эти методы."
   ]
  },
  {
   "cell_type": "markdown",
   "metadata": {},
   "source": [
    "### Выявление пустых значений"
   ]
  },
  {
   "cell_type": "markdown",
   "metadata": {},
   "source": [
    "У структур данных Pandas есть два удобным метода  <br/>\n",
    "для получения маски \"хороших\" и \"плохих\" данных."
   ]
  },
  {
   "cell_type": "code",
   "execution_count": 17,
   "metadata": {},
   "outputs": [
    {
     "data": {
      "text/plain": [
       "0    False\n",
       "1     True\n",
       "2    False\n",
       "3     True\n",
       "dtype: bool"
      ]
     },
     "execution_count": 17,
     "metadata": {},
     "output_type": "execute_result"
    }
   ],
   "source": [
    "data = pd.Series([1, np.nan, 'hello', None])\n",
    "data.isnull()  # Ищем угрозу"
   ]
  },
  {
   "cell_type": "markdown",
   "metadata": {},
   "source": [
    "Булевы маски садятся на Series и DataFrame  <br/>\n",
    "также хорошо, как и на массивы NumPy."
   ]
  },
  {
   "cell_type": "code",
   "execution_count": 18,
   "metadata": {},
   "outputs": [
    {
     "data": {
      "text/plain": [
       "0        1\n",
       "2    hello\n",
       "dtype: object"
      ]
     },
     "execution_count": 18,
     "metadata": {},
     "output_type": "execute_result"
    }
   ],
   "source": [
    "data[data.notnull()]  # Ещё не испорченные объекты"
   ]
  },
  {
   "cell_type": "markdown",
   "metadata": {},
   "source": [
    "Использование этих методов такое же лёгкое и с DataFrame."
   ]
  },
  {
   "cell_type": "markdown",
   "metadata": {},
   "source": [
    "*Замечено мною позже:*"
   ]
  },
  {
   "cell_type": "markdown",
   "metadata": {},
   "source": [
    "*Маски не ложаться на DataFrame также хорошо, если объекты Series в нём  <br/>\n",
    "имеют разные типы. Да, DataFrame не имеем общего для себя типа.*         <br/>\n",
    "\n",
    "*`NaN` - это 'numpy.float64'    <br/>\n",
    "`np.nan` - это 'float'.*        <br/>\n",
    "                                <br/>\n",
    "*`In[68]: NaN == np.nan`        <br/>\n",
    "`Out[68]: False`*"
   ]
  },
  {
   "cell_type": "markdown",
   "metadata": {},
   "source": [
    "### Удаление пустых значений"
   ]
  },
  {
   "cell_type": "markdown",
   "metadata": {},
   "source": [
    "Кроме маскирования, существуют ещё и методы для устранения NA-значений:  <br/>\n",
    "`dropna()` для отбрасывания \"плохих\" значений и `fillna()` для их        <br/>\n",
    "замены. С Series объектами всё очень даже просто."
   ]
  },
  {
   "cell_type": "code",
   "execution_count": 19,
   "metadata": {},
   "outputs": [
    {
     "data": {
      "text/plain": [
       "0        1\n",
       "2    hello\n",
       "dtype: object"
      ]
     },
     "execution_count": 19,
     "metadata": {},
     "output_type": "execute_result"
    }
   ],
   "source": [
    "data.dropna()  # остаются только хорошие данные"
   ]
  },
  {
   "cell_type": "markdown",
   "metadata": {},
   "source": [
    "С DataFrame всё чуть сложнее. По одному отбрасывать нельзя.  <br/>\n",
    "По умолчанию удаляются строки с NA-значениями. Даже если оно одно."
   ]
  },
  {
   "cell_type": "code",
   "execution_count": 20,
   "metadata": {},
   "outputs": [
    {
     "data": {
      "text/html": [
       "<div>\n",
       "<style scoped>\n",
       "    .dataframe tbody tr th:only-of-type {\n",
       "        vertical-align: middle;\n",
       "    }\n",
       "\n",
       "    .dataframe tbody tr th {\n",
       "        vertical-align: top;\n",
       "    }\n",
       "\n",
       "    .dataframe thead th {\n",
       "        text-align: right;\n",
       "    }\n",
       "</style>\n",
       "<table border=\"1\" class=\"dataframe\">\n",
       "  <thead>\n",
       "    <tr style=\"text-align: right;\">\n",
       "      <th></th>\n",
       "      <th>0</th>\n",
       "      <th>1</th>\n",
       "      <th>2</th>\n",
       "    </tr>\n",
       "  </thead>\n",
       "  <tbody>\n",
       "    <tr>\n",
       "      <th>1</th>\n",
       "      <td>2.0</td>\n",
       "      <td>3.0</td>\n",
       "      <td>5</td>\n",
       "    </tr>\n",
       "  </tbody>\n",
       "</table>\n",
       "</div>"
      ],
      "text/plain": [
       "     0    1  2\n",
       "1  2.0  3.0  5"
      ]
     },
     "execution_count": 20,
     "metadata": {},
     "output_type": "execute_result"
    }
   ],
   "source": [
    "df = pd.DataFrame([[1,      np.nan, 2],\n",
    "                   [2,      3,      5],\n",
    "                   [np.nan, 4,      6]])  # всё по красоте\n",
    "df.dropna()  # удаляются заражённые строки. Даже если не все значения плохие"
   ]
  },
  {
   "cell_type": "markdown",
   "metadata": {},
   "source": [
    "Как альтернатива, можно удалять не строки, а столбцы, настроив `axis`."
   ]
  },
  {
   "cell_type": "code",
   "execution_count": 22,
   "metadata": {},
   "outputs": [
    {
     "data": {
      "text/html": [
       "<div>\n",
       "<style scoped>\n",
       "    .dataframe tbody tr th:only-of-type {\n",
       "        vertical-align: middle;\n",
       "    }\n",
       "\n",
       "    .dataframe tbody tr th {\n",
       "        vertical-align: top;\n",
       "    }\n",
       "\n",
       "    .dataframe thead th {\n",
       "        text-align: right;\n",
       "    }\n",
       "</style>\n",
       "<table border=\"1\" class=\"dataframe\">\n",
       "  <thead>\n",
       "    <tr style=\"text-align: right;\">\n",
       "      <th></th>\n",
       "      <th>2</th>\n",
       "    </tr>\n",
       "  </thead>\n",
       "  <tbody>\n",
       "    <tr>\n",
       "      <th>0</th>\n",
       "      <td>2</td>\n",
       "    </tr>\n",
       "    <tr>\n",
       "      <th>1</th>\n",
       "      <td>5</td>\n",
       "    </tr>\n",
       "    <tr>\n",
       "      <th>2</th>\n",
       "      <td>6</td>\n",
       "    </tr>\n",
       "  </tbody>\n",
       "</table>\n",
       "</div>"
      ],
      "text/plain": [
       "   2\n",
       "0  2\n",
       "1  5\n",
       "2  6"
      ]
     },
     "execution_count": 22,
     "metadata": {},
     "output_type": "execute_result"
    }
   ],
   "source": [
    "df.dropna(axis='columns')  # или axis=1"
   ]
  },
  {
   "cell_type": "markdown",
   "metadata": {},
   "source": [
    "Если ты хочешь, чтобы  отбрасывались только строки и столбцы, вообще    <br/>\n",
    "не имеющие \"хороших\" значений, или где \"плохих\" значений большинство,   <br/>\n",
    "можешь тонко настроить функцию, задав аргументы `how` и `thresh`."
   ]
  },
  {
   "cell_type": "code",
   "execution_count": 23,
   "metadata": {},
   "outputs": [
    {
     "data": {
      "text/html": [
       "<div>\n",
       "<style scoped>\n",
       "    .dataframe tbody tr th:only-of-type {\n",
       "        vertical-align: middle;\n",
       "    }\n",
       "\n",
       "    .dataframe tbody tr th {\n",
       "        vertical-align: top;\n",
       "    }\n",
       "\n",
       "    .dataframe thead th {\n",
       "        text-align: right;\n",
       "    }\n",
       "</style>\n",
       "<table border=\"1\" class=\"dataframe\">\n",
       "  <thead>\n",
       "    <tr style=\"text-align: right;\">\n",
       "      <th></th>\n",
       "      <th>0</th>\n",
       "      <th>1</th>\n",
       "      <th>2</th>\n",
       "      <th>3</th>\n",
       "    </tr>\n",
       "  </thead>\n",
       "  <tbody>\n",
       "    <tr>\n",
       "      <th>0</th>\n",
       "      <td>1.0</td>\n",
       "      <td>NaN</td>\n",
       "      <td>2</td>\n",
       "      <td>NaN</td>\n",
       "    </tr>\n",
       "    <tr>\n",
       "      <th>1</th>\n",
       "      <td>2.0</td>\n",
       "      <td>3.0</td>\n",
       "      <td>5</td>\n",
       "      <td>NaN</td>\n",
       "    </tr>\n",
       "    <tr>\n",
       "      <th>2</th>\n",
       "      <td>NaN</td>\n",
       "      <td>4.0</td>\n",
       "      <td>6</td>\n",
       "      <td>NaN</td>\n",
       "    </tr>\n",
       "  </tbody>\n",
       "</table>\n",
       "</div>"
      ],
      "text/plain": [
       "     0    1  2   3\n",
       "0  1.0  NaN  2 NaN\n",
       "1  2.0  3.0  5 NaN\n",
       "2  NaN  4.0  6 NaN"
      ]
     },
     "execution_count": 23,
     "metadata": {},
     "output_type": "execute_result"
    }
   ],
   "source": [
    "df[3] = np.nan  # добавляем столбик, содержащий только NA-значения\n",
    "df"
   ]
  },
  {
   "cell_type": "code",
   "execution_count": 25,
   "metadata": {},
   "outputs": [
    {
     "data": {
      "text/html": [
       "<div>\n",
       "<style scoped>\n",
       "    .dataframe tbody tr th:only-of-type {\n",
       "        vertical-align: middle;\n",
       "    }\n",
       "\n",
       "    .dataframe tbody tr th {\n",
       "        vertical-align: top;\n",
       "    }\n",
       "\n",
       "    .dataframe thead th {\n",
       "        text-align: right;\n",
       "    }\n",
       "</style>\n",
       "<table border=\"1\" class=\"dataframe\">\n",
       "  <thead>\n",
       "    <tr style=\"text-align: right;\">\n",
       "      <th></th>\n",
       "      <th>0</th>\n",
       "      <th>1</th>\n",
       "      <th>2</th>\n",
       "    </tr>\n",
       "  </thead>\n",
       "  <tbody>\n",
       "    <tr>\n",
       "      <th>0</th>\n",
       "      <td>1.0</td>\n",
       "      <td>NaN</td>\n",
       "      <td>2</td>\n",
       "    </tr>\n",
       "    <tr>\n",
       "      <th>1</th>\n",
       "      <td>2.0</td>\n",
       "      <td>3.0</td>\n",
       "      <td>5</td>\n",
       "    </tr>\n",
       "    <tr>\n",
       "      <th>2</th>\n",
       "      <td>NaN</td>\n",
       "      <td>4.0</td>\n",
       "      <td>6</td>\n",
       "    </tr>\n",
       "  </tbody>\n",
       "</table>\n",
       "</div>"
      ],
      "text/plain": [
       "     0    1  2\n",
       "0  1.0  NaN  2\n",
       "1  2.0  3.0  5\n",
       "2  NaN  4.0  6"
      ]
     },
     "execution_count": 25,
     "metadata": {},
     "output_type": "execute_result"
    }
   ],
   "source": [
    "df.dropna(axis=1, how='all')  # по умолчанию how=`any`"
   ]
  },
  {
   "cell_type": "markdown",
   "metadata": {},
   "source": [
    "И мы видим, что безнадёжный столбец не попал в результат. Аргумент    <br/>\n",
    "`thresh` же даёт возможность выбрать минимум хороших значений         <br/>\n",
    "для каждой строки или столбца, чтобы тот попал в выходной результат."
   ]
  },
  {
   "cell_type": "code",
   "execution_count": 26,
   "metadata": {},
   "outputs": [
    {
     "data": {
      "text/html": [
       "<div>\n",
       "<style scoped>\n",
       "    .dataframe tbody tr th:only-of-type {\n",
       "        vertical-align: middle;\n",
       "    }\n",
       "\n",
       "    .dataframe tbody tr th {\n",
       "        vertical-align: top;\n",
       "    }\n",
       "\n",
       "    .dataframe thead th {\n",
       "        text-align: right;\n",
       "    }\n",
       "</style>\n",
       "<table border=\"1\" class=\"dataframe\">\n",
       "  <thead>\n",
       "    <tr style=\"text-align: right;\">\n",
       "      <th></th>\n",
       "      <th>0</th>\n",
       "      <th>1</th>\n",
       "      <th>2</th>\n",
       "      <th>3</th>\n",
       "    </tr>\n",
       "  </thead>\n",
       "  <tbody>\n",
       "    <tr>\n",
       "      <th>1</th>\n",
       "      <td>2.0</td>\n",
       "      <td>3.0</td>\n",
       "      <td>5</td>\n",
       "      <td>NaN</td>\n",
       "    </tr>\n",
       "  </tbody>\n",
       "</table>\n",
       "</div>"
      ],
      "text/plain": [
       "     0    1  2   3\n",
       "1  2.0  3.0  5 NaN"
      ]
     },
     "execution_count": 26,
     "metadata": {},
     "output_type": "execute_result"
    }
   ],
   "source": [
    "df.dropna(axis='rows', how='any', thresh=3)  # проходят только стоки, хранящие от 3 не NA-значения."
   ]
  },
  {
   "cell_type": "markdown",
   "metadata": {},
   "source": [
    "Здесь отбросились первая и последняя строка, т.к. они  <br/>\n",
    "не набрали нужное количество существенных значений."
   ]
  },
  {
   "cell_type": "markdown",
   "metadata": {},
   "source": [
    "### Заполнение пустых значений"
   ]
  },
  {
   "cell_type": "markdown",
   "metadata": {},
   "source": [
    "Иногда всё-же предпочтительнее просто заменять NA-значения на что-то другое.        <br/>\n",
    "Это можно сделать и с помощью метода `isnull()`, но это настолько распространённая  <br/>\n",
    "операция, что её решили добавить нативно в Pandas как метод `fillna()`.             <br/>\n",
    "Он возвращает копию данных с заменёнными пустыми значениями."
   ]
  },
  {
   "cell_type": "code",
   "execution_count": 27,
   "metadata": {},
   "outputs": [
    {
     "data": {
      "text/plain": [
       "a    1.0\n",
       "b    NaN\n",
       "c    2.0\n",
       "d    NaN\n",
       "e    3.0\n",
       "dtype: float64"
      ]
     },
     "execution_count": 27,
     "metadata": {},
     "output_type": "execute_result"
    }
   ],
   "source": [
    "data = pd.Series([1, np.nan, 2, np.nan, 3], index=list('abcde'))\n",
    "data"
   ]
  },
  {
   "cell_type": "code",
   "execution_count": 28,
   "metadata": {},
   "outputs": [
    {
     "data": {
      "text/plain": [
       "a    1.0\n",
       "b    0.0\n",
       "c    2.0\n",
       "d    0.0\n",
       "e    3.0\n",
       "dtype: float64"
      ]
     },
     "execution_count": 28,
     "metadata": {},
     "output_type": "execute_result"
    }
   ],
   "source": [
    "data.fillna(0)  # заменяем все NA-значения на простой ноль, но оригинал не трогает"
   ]
  },
  {
   "cell_type": "markdown",
   "metadata": {},
   "source": [
    "Можно задать метод заполнения по направлению \"вперёд\", копируя  <br/>\n",
    "предыдущее значение в ячейку с пустым значением."
   ]
  },
  {
   "cell_type": "code",
   "execution_count": 29,
   "metadata": {},
   "outputs": [
    {
     "data": {
      "text/plain": [
       "a    1.0\n",
       "b    1.0\n",
       "c    2.0\n",
       "d    2.0\n",
       "e    3.0\n",
       "dtype: float64"
      ]
     },
     "execution_count": 29,
     "metadata": {},
     "output_type": "execute_result"
    }
   ],
   "source": [
    "data.fillna(method='ffill')  # расшифровывается как forward fill (~ передовое заполение).\n",
    "                             # Наверное у создателей метода точка зрения на направление другая"
   ]
  },
  {
   "cell_type": "markdown",
   "metadata": {},
   "source": [
    "Также можно задать параметр по направлению \"назад\", копируя следующую ячейку."
   ]
  },
  {
   "cell_type": "code",
   "execution_count": 30,
   "metadata": {},
   "outputs": [
    {
     "data": {
      "text/plain": [
       "a    1.0\n",
       "b    2.0\n",
       "c    2.0\n",
       "d    3.0\n",
       "e    3.0\n",
       "dtype: float64"
      ]
     },
     "execution_count": 30,
     "metadata": {},
     "output_type": "execute_result"
    }
   ],
   "source": [
    "data.fillna(method='bfill')  # расшифровывается как back fill"
   ]
  },
  {
   "cell_type": "markdown",
   "metadata": {},
   "source": [
    "С DataFrame метод работает также, но ещё и есть возможность выбрать ось."
   ]
  },
  {
   "cell_type": "code",
   "execution_count": 31,
   "metadata": {},
   "outputs": [
    {
     "data": {
      "text/html": [
       "<div>\n",
       "<style scoped>\n",
       "    .dataframe tbody tr th:only-of-type {\n",
       "        vertical-align: middle;\n",
       "    }\n",
       "\n",
       "    .dataframe tbody tr th {\n",
       "        vertical-align: top;\n",
       "    }\n",
       "\n",
       "    .dataframe thead th {\n",
       "        text-align: right;\n",
       "    }\n",
       "</style>\n",
       "<table border=\"1\" class=\"dataframe\">\n",
       "  <thead>\n",
       "    <tr style=\"text-align: right;\">\n",
       "      <th></th>\n",
       "      <th>0</th>\n",
       "      <th>1</th>\n",
       "      <th>2</th>\n",
       "      <th>3</th>\n",
       "    </tr>\n",
       "  </thead>\n",
       "  <tbody>\n",
       "    <tr>\n",
       "      <th>0</th>\n",
       "      <td>1.0</td>\n",
       "      <td>NaN</td>\n",
       "      <td>2</td>\n",
       "      <td>NaN</td>\n",
       "    </tr>\n",
       "    <tr>\n",
       "      <th>1</th>\n",
       "      <td>2.0</td>\n",
       "      <td>3.0</td>\n",
       "      <td>5</td>\n",
       "      <td>NaN</td>\n",
       "    </tr>\n",
       "    <tr>\n",
       "      <th>2</th>\n",
       "      <td>NaN</td>\n",
       "      <td>4.0</td>\n",
       "      <td>6</td>\n",
       "      <td>NaN</td>\n",
       "    </tr>\n",
       "  </tbody>\n",
       "</table>\n",
       "</div>"
      ],
      "text/plain": [
       "     0    1  2   3\n",
       "0  1.0  NaN  2 NaN\n",
       "1  2.0  3.0  5 NaN\n",
       "2  NaN  4.0  6 NaN"
      ]
     },
     "execution_count": 31,
     "metadata": {},
     "output_type": "execute_result"
    }
   ],
   "source": [
    "df"
   ]
  },
  {
   "cell_type": "code",
   "execution_count": 32,
   "metadata": {},
   "outputs": [
    {
     "data": {
      "text/html": [
       "<div>\n",
       "<style scoped>\n",
       "    .dataframe tbody tr th:only-of-type {\n",
       "        vertical-align: middle;\n",
       "    }\n",
       "\n",
       "    .dataframe tbody tr th {\n",
       "        vertical-align: top;\n",
       "    }\n",
       "\n",
       "    .dataframe thead th {\n",
       "        text-align: right;\n",
       "    }\n",
       "</style>\n",
       "<table border=\"1\" class=\"dataframe\">\n",
       "  <thead>\n",
       "    <tr style=\"text-align: right;\">\n",
       "      <th></th>\n",
       "      <th>0</th>\n",
       "      <th>1</th>\n",
       "      <th>2</th>\n",
       "      <th>3</th>\n",
       "    </tr>\n",
       "  </thead>\n",
       "  <tbody>\n",
       "    <tr>\n",
       "      <th>0</th>\n",
       "      <td>1.0</td>\n",
       "      <td>1.0</td>\n",
       "      <td>2.0</td>\n",
       "      <td>2.0</td>\n",
       "    </tr>\n",
       "    <tr>\n",
       "      <th>1</th>\n",
       "      <td>2.0</td>\n",
       "      <td>3.0</td>\n",
       "      <td>5.0</td>\n",
       "      <td>5.0</td>\n",
       "    </tr>\n",
       "    <tr>\n",
       "      <th>2</th>\n",
       "      <td>NaN</td>\n",
       "      <td>4.0</td>\n",
       "      <td>6.0</td>\n",
       "      <td>6.0</td>\n",
       "    </tr>\n",
       "  </tbody>\n",
       "</table>\n",
       "</div>"
      ],
      "text/plain": [
       "     0    1    2    3\n",
       "0  1.0  1.0  2.0  2.0\n",
       "1  2.0  3.0  5.0  5.0\n",
       "2  NaN  4.0  6.0  6.0"
      ]
     },
     "execution_count": 32,
     "metadata": {},
     "output_type": "execute_result"
    }
   ],
   "source": [
    "df.fillna(method='ffill', axis='columns')  # или axis=1"
   ]
  },
  {
   "cell_type": "markdown",
   "metadata": {},
   "source": [
    "Обрати внимание, что `NaN` слева не был замён. Это потому что  <br/>\n",
    "ему неоткуда было взять значение, т.к. столбца перед ним нет."
   ]
  }
 ],
 "metadata": {
  "interpreter": {
   "hash": "98cb9c43b4ef2e905bd8cc8e12ac11ea5602c6caedd791714b8a631e711c40d6"
  },
  "kernelspec": {
   "display_name": "Python 3.9.6 64-bit",
   "name": "python3"
  },
  "language_info": {
   "codemirror_mode": {
    "name": "ipython",
    "version": 3
   },
   "file_extension": ".py",
   "mimetype": "text/x-python",
   "name": "python",
   "nbconvert_exporter": "python",
   "pygments_lexer": "ipython3",
   "version": "3.9.6"
  }
 },
 "nbformat": 4,
 "nbformat_minor": 2
}