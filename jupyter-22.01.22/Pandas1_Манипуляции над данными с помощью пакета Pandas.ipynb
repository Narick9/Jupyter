{
 "cells": [
  {
   "cell_type": "markdown",
   "metadata": {},
   "source": [
    "Muslimov Arthur, Last Checkpoint: 03/26/2020\n",
    "                 Last Checkpoint: 12/05/2021"
   ]
  },
  {
   "cell_type": "markdown",
   "metadata": {},
   "source": [
    "Всё, что тебе следует знать о технических вопросах Pandas - это         <br/>\n",
    "то, что собран он на языках Си и Cython, упоминавшихся неоднократно     <br/>\n",
    "раньше. И состоит он из NumPy массивов. Сам Pandas - фактически         <br/>\n",
    "надстройка над NumPy, обеспечивающий множество новых фишек, вроде       <br/>\n",
    "маркирования данных, что нельзя сделать в NumPy массивах. И,            <br/>\n",
    "конечно же, всё это работает скорее всего быстрее, чем твой велосипед."
   ]
  },
  {
   "cell_type": "markdown",
   "metadata": {},
   "source": [
    "## Установка и использование библиотеки Pandas "
   ]
  },
  {
   "cell_type": "markdown",
   "metadata": {},
   "source": [
    "Чтобы Pandas заработал, у тебя должен стоять пакет NumPy.  <br/>\n",
    "Если же ты последовал совету и используешь Anaconda,       <br/>\n",
    "то всё очень даже хорошо, и у тебя всё готово."
   ]
  },
  {
   "cell_type": "markdown",
   "metadata": {},
   "source": [
    "Традиции импортирования Pandas схожи с традициями NumPy."
   ]
  },
  {
   "cell_type": "code",
   "execution_count": 1,
   "metadata": {},
   "outputs": [
    {
     "data": {
      "text/plain": [
       "'1.2.3'"
      ]
     },
     "execution_count": 1,
     "metadata": {},
     "output_type": "execute_result"
    }
   ],
   "source": [
    "import pandas as pd  # ну разве не здорово?\n",
    "pd.__version__  # твоя версия. На данный момент, т.е. на 06.03.2020 актуальна 0.25.1"
   ]
  },
  {
   "cell_type": "markdown",
   "metadata": {},
   "source": [
    "Напоминаю, что фишки IPython работают везде!"
   ]
  },
  {
   "cell_type": "markdown",
   "metadata": {},
   "source": [
    "Т.к. Pandas зависим от NumPy, то есть одна интересная вещь.  <br/>\n",
    "Фактически, при импорте Pandas мы импортируем и NumPy."
   ]
  },
  {
   "cell_type": "code",
   "execution_count": 2,
   "metadata": {},
   "outputs": [
    {
     "name": "stderr",
     "output_type": "stream",
     "text": [
      "<ipython-input-2-0833d5b7c674>:1: FutureWarning: The pandas.np module is deprecated and will be removed from pandas in a future version. Import numpy directly instead\n",
      "  pd.np.__version__  # интересно, но врядли этим кто-то в серьёз пользуется.\n"
     ]
    },
    {
     "data": {
      "text/plain": [
       "'1.20.2'"
      ]
     },
     "execution_count": 2,
     "metadata": {},
     "output_type": "execute_result"
    }
   ],
   "source": [
    "pd.np.__version__  # интересно, но врядли этим кто-то в серьёз пользуется.\n",
    "                   # Понял я это сам, без всяких подсказок."
   ]
  }
 ],
 "metadata": {
  "interpreter": {
   "hash": "98cb9c43b4ef2e905bd8cc8e12ac11ea5602c6caedd791714b8a631e711c40d6"
  },
  "kernelspec": {
   "display_name": "Python 3.9.6 64-bit",
   "name": "python3"
  },
  "language_info": {
   "codemirror_mode": {
    "name": "ipython",
    "version": 3
   },
   "file_extension": ".py",
   "mimetype": "text/x-python",
   "name": "python",
   "nbconvert_exporter": "python",
   "pygments_lexer": "ipython3",
   "version": "3.9.6"
  }
 },
 "nbformat": 4,
 "nbformat_minor": 2
}