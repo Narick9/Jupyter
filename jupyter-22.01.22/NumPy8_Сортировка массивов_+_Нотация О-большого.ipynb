{
 "cells": [
  {
   "cell_type": "markdown",
   "metadata": {},
   "source": [
    "Muslimov Arthur, Last Checkpoint: 03/05/2020  <br/>\n",
    "                 Last Checkpoint: 11/30/2021"
   ]
  },
  {
   "cell_type": "code",
   "execution_count": 2,
   "metadata": {},
   "outputs": [],
   "source": [
    "import numpy as np"
   ]
  },
  {
   "cell_type": "code",
   "execution_count": 3,
   "metadata": {},
   "outputs": [],
   "source": [
    "import pandas as pd"
   ]
  },
  {
   "cell_type": "code",
   "execution_count": 4,
   "metadata": {},
   "outputs": [],
   "source": [
    "import matplotlib.pyplot as plt\n",
    "import seaborn; seaborn.set()\n",
    "%matplotlib inline"
   ]
  },
  {
   "cell_type": "code",
   "execution_count": 5,
   "metadata": {},
   "outputs": [
    {
     "name": "stdout",
     "output_type": "stream",
     "text": [
      "Exception reporting mode: Plain\n"
     ]
    }
   ],
   "source": [
    "%xmode Plain"
   ]
  },
  {
   "cell_type": "markdown",
   "metadata": {},
   "source": [
    "С доступом и измерением мы уже разобрались. Настало время изучить сортировку.    <br/>\n",
    "Существует много алгоритмов сортировки и все они, как минимум, очень интересны.  <br/>\n",
    "Если ты уже знаком с некоторыми из них, то тебе, наверное уже снились сны, а     <br/>\n",
    "может и кошмары, смотря какой у тебя темперамент."
   ]
  },
  {
   "cell_type": "markdown",
   "metadata": {},
   "source": [
    "Например, вот ***сортировка выбором*** (selection sort). Её можно  <br/>\n",
    "сделать буквально в нескольких строчках кода на Python."
   ]
  },
  {
   "cell_type": "code",
   "execution_count": 6,
   "metadata": {},
   "outputs": [
    {
     "data": {
      "text/plain": [
       "array([1, 2, 3, 4, 5])"
      ]
     },
     "execution_count": 6,
     "metadata": {},
     "output_type": "execute_result"
    }
   ],
   "source": [
    "def selection_sort(x):\n",
    "    for i in range(len(x)):\n",
    "        swap = i + np.argmin(x[i:])  # находим индекс следующующего минимума\n",
    "        (x[i], x[swap]) = (x[swap], x[i])  # меняем местами текующий и минимальный элемент\n",
    "    return x\n",
    "\n",
    "x = np.array([3, 1, 4, 2, 5])\n",
    "selection_sort(x)"
   ]
  },
  {
   "cell_type": "markdown",
   "metadata": {},
   "source": [
    "Сортировка выбором удобна, т.к. проста, но при этом, относительно        <br/>\n",
    "других сортировок, медленна. Для списка из N значений она требует        <br/>\n",
    "N проходов цикла, в каждом из которых выполняется ~N сравнений.          <br/>\n",
    "По \"О-большому\", о котором мы поговорим чуть позже, временная            <br/>\n",
    "сложность сортировки вставкой в среднем равна $O[N^2]$."
   ]
  },
  {
   "cell_type": "markdown",
   "metadata": {},
   "source": [
    "> Даже сортировка выбором гораздо лучше моего фаворита среди всех  <br/>\n",
    "> алгоритмов сортировки - ***случайной сортировки***(bogosort)"
   ]
  },
  {
   "cell_type": "code",
   "execution_count": 7,
   "metadata": {},
   "outputs": [
    {
     "data": {
      "text/plain": [
       "array([1, 2, 3, 4, 5])"
      ]
     },
     "execution_count": 7,
     "metadata": {},
     "output_type": "execute_result"
    }
   ],
   "source": [
    "def bogosort(x):\n",
    "    while np.any(x[:-1] > x[1:]):\n",
    "        np.random.shuffle(x)\n",
    "    return x\n",
    "\n",
    "x = np.array([2, 1, 4, 3, 5])\n",
    "bogosort(x)"
   ]
  },
  {
   "cell_type": "markdown",
   "metadata": {},
   "source": [
    "Этот алгоритм надеется на чисто везение. При средней сложности порядка $O[N×N!]$  <br/>\n",
    "его не следует использовать в реальной производственной среде."
   ]
  },
  {
   "cell_type": "markdown",
   "metadata": {},
   "source": [
    "## Быстрая сортировка в библиотеке NumPy: функции `np.sort()` и `np.argsort()`"
   ]
  },
  {
   "cell_type": "markdown",
   "metadata": {},
   "source": [
    "Хотя у нас в распоряжении есть и ванильные функции `sort()` и `sorted()`,  <br/>\n",
    "мы будем использовать NumPy-версии, т.к. они намного более эффективны      <br/>\n",
    "и заточены под наши массивы. По умолчанию все они используют алгоритм      <br/>\n",
    "***быстрой сортировки*** (quicksort), имеющий сложность $ O[N×\\log {N}] $."
   ]
  },
  {
   "cell_type": "code",
   "execution_count": 8,
   "metadata": {},
   "outputs": [
    {
     "data": {
      "text/plain": [
       "array([1, 2, 3, 4, 5])"
      ]
     },
     "execution_count": 8,
     "metadata": {},
     "output_type": "execute_result"
    }
   ],
   "source": [
    "x = np.array([3, 2, 5, 1, 4])\n",
    "np.sort(x)  # функция, возвращает отсортированный массив не меняя входной"
   ]
  },
  {
   "cell_type": "code",
   "execution_count": 9,
   "metadata": {},
   "outputs": [
    {
     "name": "stdout",
     "output_type": "stream",
     "text": [
      "[3 2 5 1 4]\n"
     ]
    },
    {
     "data": {
      "text/plain": [
       "array([1, 2, 3, 4, 5])"
      ]
     },
     "execution_count": 9,
     "metadata": {},
     "output_type": "execute_result"
    }
   ],
   "source": [
    "print(x)\n",
    "x.sort()  # метод, сортирует имеющийся массив\n",
    "x"
   ]
  },
  {
   "cell_type": "markdown",
   "metadata": {},
   "source": [
    "Есть также и родственная им функция `np.argsort()`, возвращающая  <br/>\n",
    "индекси отсортированных элементов."
   ]
  },
  {
   "cell_type": "code",
   "execution_count": 10,
   "metadata": {},
   "outputs": [
    {
     "name": "stdout",
     "output_type": "stream",
     "text": [
      "[1 0 3 2 4]\n"
     ]
    },
    {
     "data": {
      "text/plain": [
       "array([1, 2, 3, 4, 5])"
      ]
     },
     "execution_count": 10,
     "metadata": {},
     "output_type": "execute_result"
    }
   ],
   "source": [
    "x = np.array([2, 1, 4, 3, 5])\n",
    "i = np.argsort(x)  # входной массив она не меняет\n",
    "print(i)\n",
    "x[i]  # применяя транслирование, можно получить отсортированный массив"
   ]
  },
  {
   "cell_type": "markdown",
   "metadata": {},
   "source": [
    "**Сортировка по строкам и столбам**. У алгоритмов сортировки NumPy  <br/>\n",
    "есть полезная возможность выбирать ось аргументом axis."
   ]
  },
  {
   "cell_type": "code",
   "execution_count": 11,
   "metadata": {},
   "outputs": [
    {
     "data": {
      "text/plain": [
       "array([[6, 3, 7, 4],\n",
       "       [6, 9, 2, 6],\n",
       "       [7, 4, 3, 7]])"
      ]
     },
     "execution_count": 11,
     "metadata": {},
     "output_type": "execute_result"
    }
   ],
   "source": [
    "rand = np.random.RandomState(42)\n",
    "x = rand.randint(0, 10, (3, 4))\n",
    "x"
   ]
  },
  {
   "cell_type": "code",
   "execution_count": 12,
   "metadata": {},
   "outputs": [
    {
     "data": {
      "text/plain": [
       "array([[6, 3, 2, 4],\n",
       "       [6, 4, 3, 6],\n",
       "       [7, 9, 7, 7]])"
      ]
     },
     "execution_count": 12,
     "metadata": {},
     "output_type": "execute_result"
    }
   ],
   "source": [
    "np.sort(x, axis=0)  # сортируем стобцы"
   ]
  },
  {
   "cell_type": "code",
   "execution_count": 13,
   "metadata": {},
   "outputs": [
    {
     "data": {
      "text/plain": [
       "array([[3, 4, 6, 7],\n",
       "       [2, 6, 6, 9],\n",
       "       [3, 4, 7, 7]])"
      ]
     },
     "execution_count": 13,
     "metadata": {},
     "output_type": "execute_result"
    }
   ],
   "source": [
    "np.sort(x, axis=1)  # сортируем строки"
   ]
  },
  {
   "cell_type": "markdown",
   "metadata": {},
   "source": [
    "Если связь между элементами строк или столбцов была, то она утеряна."
   ]
  },
  {
   "cell_type": "markdown",
   "metadata": {},
   "source": [
    "## Частичные сортировки: секционирование"
   ]
  },
  {
   "cell_type": "markdown",
   "metadata": {},
   "source": [
    "Если тебе не нужен сортированный массив, а только `K` наименьших значений  <br/>\n",
    "в нём, используй функцию `np.partition()`, принимающую массив и `K`."
   ]
  },
  {
   "cell_type": "code",
   "execution_count": 14,
   "metadata": {},
   "outputs": [
    {
     "data": {
      "text/plain": [
       "array([2, 1, 3, 4, 6, 5, 7])"
      ]
     },
     "execution_count": 14,
     "metadata": {},
     "output_type": "execute_result"
    }
   ],
   "source": [
    "x = np.array([7, 2, 3, 1, 6, 5, 4])\n",
    "np.partition(x, 3)  # делит массив на два сегмента. Первые три элемента- наименьшеие, после них идут\n",
    "                    # прочие элементы. Оба сегмента хранят значения в произвольном порядке."
   ]
  },
  {
   "cell_type": "markdown",
   "metadata": {},
   "source": [
    "По аналогии с `np.argsort()` есть `np.argpartition()`, выдающая индексы первых  <br/> \n",
    "`K` наименьших. Её мы испытаем на деле в следующем подразделе."
   ]
  },
  {
   "cell_type": "code",
   "execution_count": 15,
   "metadata": {},
   "outputs": [
    {
     "name": "stdout",
     "output_type": "stream",
     "text": [
      "x: [7 2 3 1 6 5 4]\n",
      "\n",
      "indexes: [1 3 2 6 4 5 0]\n",
      "x[indexes]: [2 1 3 4 6 5 7]\n"
     ]
    }
   ],
   "source": [
    "print(\"x:\", x, end=\"\\n\\n\")\n",
    "\n",
    "indexes = np.argpartition(x, 3)\n",
    "print(\"indexes:\", indexes)\n",
    "print(\"x[indexes]:\", x[indexes])"
   ]
  },
  {
   "cell_type": "markdown",
   "metadata": {},
   "source": [
    "## Пример: `K` ближайших соседей"
   ]
  },
  {
   "cell_type": "markdown",
   "metadata": {},
   "source": [
    "И так, у нас есть координаты 5-ти точек, и нам нужна возможность найти  <br/>\n",
    "ближайших соседей любой из них. По стандартным соглашениями             <br/>\n",
    "они будут находится в массиве 5×2."
   ]
  },
  {
   "cell_type": "code",
   "execution_count": 18,
   "metadata": {},
   "outputs": [
    {
     "data": {
      "image/png": "[encoded data removed]",
      "text/plain": [
       "<Figure size 432x288 with 1 Axes>"
      ]
     },
     "metadata": {
      "needs_background": "light"
     },
     "output_type": "display_data"
    }
   ],
   "source": [
    "X = np.array([[0, 0],\n",
    "              [2, 1],\n",
    "              [3, 5],\n",
    "              [6, 6]])  # берём простенький пример\n",
    "plt.scatter(X[:, 0], X[:, 1], s=100);  # подавляем вывод символом ;\n",
    "                            # X[:, 0] - это координаты по оси x, а X[:, 1] - по оси y"
   ]
  },
  {
   "cell_type": "markdown",
   "metadata": {},
   "source": [
    "Давай вспомним правило школьного курса алгебры (вроде даже за 7 класс).  <br/>\n",
    "$ \\vec{|xy|} = \\sqrt {(x_1 - x_0)^2 + (y_1 - y_0)^2} $"
   ]
  },
  {
   "cell_type": "code",
   "execution_count": 20,
   "metadata": {},
   "outputs": [
    {
     "data": {
      "text/plain": [
       "(4, 4, 2)"
      ]
     },
     "execution_count": 20,
     "metadata": {},
     "output_type": "execute_result"
    }
   ],
   "source": [
    "difference = X[np.newaxis, :] - X[:, np.newaxis]  # для каждой точки находим расстояния от других точек.\n",
    "                    # Да, сходу не поймёшь, если нет опыта. Нужно просто хорошенько подумать и, желательно, долго\n",
    "    \n",
    "difference.shape  # добавляется измерение, где элементы высшего порядка - это расстояния от данной точки до других"
   ]
  },
  {
   "cell_type": "code",
   "execution_count": 21,
   "metadata": {},
   "outputs": [
    {
     "data": {
      "text/plain": [
       "(4, 4, 2)"
      ]
     },
     "execution_count": 21,
     "metadata": {},
     "output_type": "execute_result"
    }
   ],
   "source": [
    "dif_sq = difference**2  # возводим расстояния по осям координат в квадрат\n",
    "                # или np.power(difference, 2)\n",
    "dif_sq.shape"
   ]
  },
  {
   "cell_type": "code",
   "execution_count": 22,
   "metadata": {},
   "outputs": [
    {
     "data": {
      "text/plain": [
       "array([[ 0,  5, 34, 72],\n",
       "       [ 5,  0, 17, 41],\n",
       "       [34, 17,  0, 10],\n",
       "       [72, 41, 10,  0]])"
      ]
     },
     "execution_count": 22,
     "metadata": {},
     "output_type": "execute_result"
    }
   ],
   "source": [
    "dist_sq = dif_sq.sum(axis=-1)  # суммируем квадраты расстояний\n",
    "                    # что значит axis=-1? Тут такая-же фишка, как и с индексами массивов. \n",
    "                    # Получается, что мы здесь выбираем последнее измерение\n",
    "dist_sq"
   ]
  },
  {
   "cell_type": "markdown",
   "metadata": {},
   "source": [
    "Да! Теперь мы знаем расстояния каждых точек друг от друга. Первая  <br/>\n",
    "строчка здесь - это расстояния от первой точки до других. Почему   <br/>\n",
    "первым идёт 0? Потому что расстояние до самого себя - ноль."
   ]
  },
  {
   "cell_type": "code",
   "execution_count": 25,
   "metadata": {},
   "outputs": [
    {
     "data": {
      "text/plain": [
       "array([0, 0, 0, 0])"
      ]
     },
     "execution_count": 25,
     "metadata": {},
     "output_type": "execute_result"
    }
   ],
   "source": [
    "dist_sq.diagonal()  # расстояния точек до самих себя"
   ]
  },
  {
   "cell_type": "markdown",
   "metadata": {},
   "source": [
    "Т.к. нам не требуется точного расстояния, мы не будем вычислять корни. Воспользуемся  <br/>\n",
    "функцией `np.argsort()` для получения индексов сортированных элементов                <br/>\n",
    "по строкам. Т.е. мы получим те самые индексы ближайших соседей."
   ]
  },
  {
   "cell_type": "code",
   "execution_count": 27,
   "metadata": {},
   "outputs": [
    {
     "data": {
      "text/plain": [
       "array([[0, 1, 2, 3],\n",
       "       [1, 0, 2, 3],\n",
       "       [2, 3, 1, 0],\n",
       "       [3, 2, 1, 0]])"
      ]
     },
     "execution_count": 27,
     "metadata": {},
     "output_type": "execute_result"
    }
   ],
   "source": [
    "nearest = np.argsort(dist_sq)\n",
    "nearest"
   ]
  },
  {
   "cell_type": "markdown",
   "metadata": {},
   "source": [
    "Заметим, что первый столбец идёт в порядке возрастания с 0 до 3.  <br/>\n",
    "И это правильно, т.к. ближайший сосед каждой точки - она сама."
   ]
  },
  {
   "cell_type": "markdown",
   "metadata": {},
   "source": [
    "В принципе, чтобы найти `K` ближайших соседей, нам даже не нужно было  <br/> \n",
    "отсортировывать строки полностью. У нас же есть функция                <br/>\n",
    "`np.argpartition()`! Допустим, нужно по 2 соседа с каждой точки."
   ]
  },
  {
   "cell_type": "code",
   "execution_count": 29,
   "metadata": {},
   "outputs": [
    {
     "data": {
      "text/plain": [
       "array([[0, 1, 2, 3],\n",
       "       [1, 0, 2, 3],\n",
       "       [2, 3, 1, 0],\n",
       "       [2, 3, 1, 0]])"
      ]
     },
     "execution_count": 29,
     "metadata": {},
     "output_type": "execute_result"
    }
   ],
   "source": [
    "K = 2\n",
    "nearest_partition = np.argpartition(dist_sq, K + 1, axis=1)  # K+1 т.к. ближайшая точка к данной - это она сама\n",
    "nearest_partition"
   ]
  },
  {
   "cell_type": "markdown",
   "metadata": {},
   "source": [
    "Мы можем даже визуализировать получившующся сетку."
   ]
  },
  {
   "cell_type": "code",
   "execution_count": 31,
   "metadata": {},
   "outputs": [
    {
     "data": {
      "image/png": "[encoded data removed]",
      "text/plain": [
       "<Figure size 432x288 with 1 Axes>"
      ]
     },
     "metadata": {
      "needs_background": "light"
     },
     "output_type": "display_data"
    }
   ],
   "source": [
    "plt.scatter(X[:, 0], X[:, 1], s=100)\n",
    "K = 2\n",
    "\n",
    "for i in range(X.shape[0]):\n",
    "    for j in nearest_partition[i, 1:K+1]:\n",
    "        # рисуем линии от ближайших соседей до текущей точки\n",
    "        plt.plot(*zip(X[j], X[i]), color=\"black\")"
   ]
  },
  {
   "cell_type": "markdown",
   "metadata": {},
   "source": [
    "Да, так гораздо лучше. Может показаться странным, что из центральных  <br/>\n",
    "точек идут не две, а три линии. Но это всего лишь значит, что они     <br/>\n",
    "оказывались близкими ещё для кого-то."
   ]
  },
  {
   "cell_type": "markdown",
   "metadata": {},
   "source": [
    "Да, ты можешь заявить, что можно было обойтись без транслирования      <br/>\n",
    "и построчной сортировки, просто пойдя через понятный цикл. Но          <br/>\n",
    "как бы ты ни старался, средства NumPy всё-равно окажутся эффективнее."
   ]
  },
  {
   "cell_type": "markdown",
   "metadata": {},
   "source": [
    "> Наконец, отмечу, что для выполнения поисков соседей в очень больших          <br/>\n",
    "> массивов данных существуют основанные на деревьях и/или аппроксимационные    <br/>\n",
    "> алгоритмы, масштабирующиеся как $ O[N\\log {N}] $: или даже лучше,            <br/>\n",
    "> в отличии от грубого подхода $ O[N^2] $. Один из примеров таких алгоритмов - <br/>\n",
    "> \\- K-мерное дерево (KD-tree), реализованное в библиотеке Scikit-Learn."
   ]
  },
  {
   "cell_type": "markdown",
   "metadata": {},
   "source": [
    "##### Нотация \"О-большого\""
   ]
  },
  {
   "cell_type": "markdown",
   "metadata": {},
   "source": [
    "Нотация \"О-большого\" позволяет оценивать разницу по времени алгоритма,      <br/>\n",
    "беря во внимание размеры входных массивов. Например, если алгоритм          <br/>\n",
    "со сложностью $ O[N] $ (читается \"порядка N\") справляется с массивом        <br/>\n",
    "размером 1000 за 1 секунду, то за 5 секунд он будет способен обработать     <br/>\n",
    "массив размером 5000  элементов. N здесь показывает кол-во элементов        <br/>\n",
    "во входном массиве. Если алгоритм имел бы сложность $ O[N^2] $, то          <br/>\n",
    "с массивом размером 5000 элементов он бы справился уже за 25 секунд. Стоит  <br/> \n",
    "отметить, что нотация \"О-большого\" не даёт точного времени для алгоритмов.  <br/>\n",
    "Также не стоит путать её с другими менее используемыми нотациями, вроде     <br/>\n",
    "\"о-маленького\", \"θ-большого\", \"Ω-большого\" и их многочисленными гибридами."
   ]
  }
 ],
 "metadata": {
  "interpreter": {
   "hash": "ea644fd8481c1fbb4bfc0480e47120e263893aeadbc5ea55cfbf12ae17e57f54"
  },
  "kernelspec": {
   "display_name": "Python 3.8.11 64-bit",
   "name": "python3"
  },
  "language_info": {
   "codemirror_mode": {
    "name": "ipython",
    "version": 3
   },
   "file_extension": ".py",
   "mimetype": "text/x-python",
   "name": "python",
   "nbconvert_exporter": "python",
   "pygments_lexer": "ipython3",
   "version": "3.9.6"
  }
 },
 "nbformat": 4,
 "nbformat_minor": 2
}