{
 "cells": [
  {
   "cell_type": "markdown",
   "metadata": {},
   "source": [
    "Muslimov Arthur, Last Checkpoint: 03/12/2020"
   ]
  },
  {
   "cell_type": "code",
   "execution_count": 1,
   "metadata": {},
   "outputs": [],
   "source": [
    "import numpy as np"
   ]
  },
  {
   "cell_type": "code",
   "execution_count": 2,
   "metadata": {},
   "outputs": [],
   "source": [
    "import pandas as pd"
   ]
  },
  {
   "cell_type": "code",
   "execution_count": 3,
   "metadata": {},
   "outputs": [
    {
     "name": "stdout",
     "output_type": "stream",
     "text": [
      "Exception reporting mode: Plain\n"
     ]
    }
   ],
   "source": [
    "%xmode Plain"
   ]
  },
  {
   "cell_type": "code",
   "execution_count": 1,
   "metadata": {},
   "outputs": [
    {
     "data": {
      "application/javascript": [
       "IPython.notebook.set_autosave_interval(0)"
      ]
     },
     "metadata": {},
     "output_type": "display_data"
    },
    {
     "name": "stdout",
     "output_type": "stream",
     "text": [
      "Autosave disabled\n"
     ]
    }
   ],
   "source": [
    "%autosave 0"
   ]
  },
  {
   "cell_type": "markdown",
   "metadata": {},
   "source": [
    "Мы уже умеем получать доступ к частям массива с помощью простого индекса          <br/>\n",
    "(`arr[0]`), срезов (`arr[:5]`) и булевых масок (`arr[arr > 0]`). Здесь            <br/>\n",
    "же ты узнаешь, так называемую ***прихотливую индексацию*** **(fancy indexing)**.  <br/>\n",
    "Это когда ты даёшь массиву не скалярное индекс, а целый массив таких индексов.  "
   ]
  },
  {
   "cell_type": "markdown",
   "metadata": {},
   "source": [
    "## Исследуем возможности \"прихотливой\" индексации"
   ]
  },
  {
   "cell_type": "markdown",
   "metadata": {},
   "source": [
    "Суть её ты, наверное, уже понял - мы передаём массив индексов и получаем массив элементов."
   ]
  },
  {
   "cell_type": "code",
   "execution_count": 4,
   "metadata": {},
   "outputs": [
    {
     "data": {
      "text/plain": [
       "array([ 6, 19, 14, 10,  7,  6, 18, 10, 10,  3])"
      ]
     },
     "execution_count": 4,
     "metadata": {},
     "output_type": "execute_result"
    }
   ],
   "source": [
    "rng42 = np.random.RandomState(42)  # создаём свой генератор\n",
    "\n",
    "x = rng42.randint(20, size=10)\n",
    "x"
   ]
  },
  {
   "cell_type": "code",
   "execution_count": 5,
   "metadata": {},
   "outputs": [
    {
     "data": {
      "text/plain": [
       "array([10,  6, 19])"
      ]
     },
     "execution_count": 5,
     "metadata": {},
     "output_type": "execute_result"
    }
   ],
   "source": [
    "ind = [3, 5, 1]\n",
    "x[ind]  # или постаринке - [x[3], x[5], x[1]]"
   ]
  },
  {
   "cell_type": "markdown",
   "metadata": {},
   "source": [
    "В случае \"прихотливой\" индексации форма результата равна форме ***массива индексов***  <br/>\n",
    "**(index arrays)**, а не ***индексируемого массива***. Тут главное не перепутать."
   ]
  },
  {
   "cell_type": "code",
   "execution_count": 6,
   "metadata": {},
   "outputs": [
    {
     "data": {
      "text/plain": [
       "array([[10,  6],\n",
       "       [19,  7]])"
      ]
     },
     "execution_count": 6,
     "metadata": {},
     "output_type": "execute_result"
    }
   ],
   "source": [
    "ind = np.array([[3, 5],   # да, int именно массив, а не список.\n",
    "                [1, 4]])  # со список бы была ошибка\n",
    "x[ind]"
   ]
  },
  {
   "cell_type": "markdown",
   "metadata": {},
   "source": [
    "\"Прихотливая\" индексация работает и в случае многомерных массивов."
   ]
  },
  {
   "cell_type": "code",
   "execution_count": 7,
   "metadata": {},
   "outputs": [
    {
     "data": {
      "text/plain": [
       "array([[ 0,  1,  2,  3],\n",
       "       [ 4,  5,  6,  7],\n",
       "       [ 8,  9, 10, 11]])"
      ]
     },
     "execution_count": 7,
     "metadata": {},
     "output_type": "execute_result"
    }
   ],
   "source": [
    "x = np.arange(12).reshape(3, 4)\n",
    "x"
   ]
  },
  {
   "cell_type": "markdown",
   "metadata": {},
   "source": [
    "Также, как и с обычной индексацией, первый массив индексов,  <br/>\n",
    "относится к строкам а второй - к столбцам."
   ]
  },
  {
   "cell_type": "code",
   "execution_count": 8,
   "metadata": {},
   "outputs": [
    {
     "data": {
      "text/plain": [
       "array([ 2,  5, 11])"
      ]
     },
     "execution_count": 8,
     "metadata": {},
     "output_type": "execute_result"
    }
   ],
   "source": [
    "row = np.array([0, 1, 2])\n",
    "col = np.array([2, 1, 3])\n",
    "\n",
    "x[row, col]"
   ]
  },
  {
   "cell_type": "markdown",
   "metadata": {},
   "source": [
    "Т.е. мы создаём пары координат. Первые координаты - `[0, 2]`,  <br/>\n",
    "вторые - `[1, 1]`, а третие - `[3, 2]`. Выходит, что они       <br/>\n",
    "как-бы накладываются друг на друга, создавая координаты."
   ]
  },
  {
   "cell_type": "markdown",
   "metadata": {},
   "source": [
    "Составление пар координат подчиняется всем правилам транслирования,  <br/>\n",
    "которые мы разобрали в прошлом разделе."
   ]
  },
  {
   "cell_type": "code",
   "execution_count": 9,
   "metadata": {},
   "outputs": [
    {
     "data": {
      "text/plain": [
       "array([[ 2,  1,  3],\n",
       "       [ 6,  5,  7],\n",
       "       [10,  9, 11]])"
      ]
     },
     "execution_count": 9,
     "metadata": {},
     "output_type": "execute_result"
    }
   ],
   "source": [
    "x[row[:, np.newaxis], col]"
   ]
  },
  {
   "cell_type": "markdown",
   "metadata": {},
   "source": [
    "Это значит, что с каждой строки индексируемого массива, заданной  <br/>\n",
    "первым массивом индексов, берутся элементы, заданные вторым."
   ]
  },
  {
   "cell_type": "markdown",
   "metadata": {},
   "source": [
    "Какжое строчное значение соединяется с каждым вектором-столбцом точно  <br/>\n",
    "также, как при транслировании арифметических операций. Например:"
   ]
  },
  {
   "cell_type": "code",
   "execution_count": 10,
   "metadata": {},
   "outputs": [
    {
     "data": {
      "text/plain": [
       "array([[0, 0, 0],\n",
       "       [2, 1, 3],\n",
       "       [4, 2, 6]])"
      ]
     },
     "execution_count": 10,
     "metadata": {},
     "output_type": "execute_result"
    }
   ],
   "source": [
    "row[:, np.newaxis] * col  # тут выходит массив произведений, а там будет массив координат"
   ]
  },
  {
   "cell_type": "markdown",
   "metadata": {},
   "source": [
    "> При работе с \"прихотливой\" индексации важно никогда не забывать,        <br/>\n",
    "> что возвращаемое значение отражает ***транслируюмую форму индексов***,  <br/>\n",
    "> а не форму индексируемого массива."
   ]
  },
  {
   "cell_type": "markdown",
   "metadata": {},
   "source": [
    "## Комбинированная индексация"
   ]
  },
  {
   "cell_type": "markdown",
   "metadata": {},
   "source": [
    "Прихотливую индексацию можно применять наряду с другими схемами     <br/>\n",
    "индексации. Это даёт возможность делать ещё более сложную выборку.  <br/>"
   ]
  },
  {
   "cell_type": "code",
   "execution_count": 11,
   "metadata": {},
   "outputs": [
    {
     "data": {
      "text/plain": [
       "array([[ 0,  1,  2,  3],\n",
       "       [ 4,  5,  6,  7],\n",
       "       [ 8,  9, 10, 11]])"
      ]
     },
     "execution_count": 11,
     "metadata": {},
     "output_type": "execute_result"
    }
   ],
   "source": [
    "x  # наш подопытный"
   ]
  },
  {
   "cell_type": "code",
   "execution_count": 12,
   "metadata": {},
   "outputs": [
    {
     "data": {
      "text/plain": [
       "array([4, 6])"
      ]
     },
     "execution_count": 12,
     "metadata": {},
     "output_type": "execute_result"
    }
   ],
   "source": [
    "x[1, [0, 2]]  # простой и \"прихотливый\" индекс"
   ]
  },
  {
   "cell_type": "code",
   "execution_count": 13,
   "metadata": {},
   "outputs": [
    {
     "data": {
      "text/plain": [
       "array([[0, 3],\n",
       "       [4, 7]])"
      ]
     },
     "execution_count": 13,
     "metadata": {},
     "output_type": "execute_result"
    }
   ],
   "source": [
    "x[:2, [0, 3]]  # срези и \"прихотливый\" индекс"
   ]
  },
  {
   "cell_type": "code",
   "execution_count": 14,
   "metadata": {},
   "outputs": [
    {
     "data": {
      "text/plain": [
       "array([[0, 2],\n",
       "       [4, 6]])"
      ]
     },
     "execution_count": 14,
     "metadata": {},
     "output_type": "execute_result"
    }
   ],
   "source": [
    "mask = np.array([1, 0, 1, 0], dtype=bool)  # да, так тоже можно\n",
    "row = np.array([0, 1])\n",
    "\n",
    "x[row[:, np.newaxis], mask]  # \"прихотливая\" индексация и маска"
   ]
  },
  {
   "cell_type": "markdown",
   "metadata": {},
   "source": [
    "> Все эти варианты индексации вместе обеспечивают набор чрезвычайно  <br/>\n",
    "> гибких операций по доступу к значениям массивов и их изменению."
   ]
  },
  {
   "cell_type": "markdown",
   "metadata": {},
   "source": [
    "Но есть некоторые неочевидные вещи."
   ]
  },
  {
   "cell_type": "code",
   "execution_count": 15,
   "metadata": {},
   "outputs": [
    {
     "data": {
      "text/plain": [
       "array([0, 9])"
      ]
     },
     "execution_count": 15,
     "metadata": {},
     "output_type": "execute_result"
    }
   ],
   "source": [
    "mask = [True, False, True]\n",
    "row = [0, 1]\n",
    "\n",
    "x[mask, row]"
   ]
  },
  {
   "cell_type": "markdown",
   "metadata": {},
   "source": [
    "Готов спорить, ты ожидал увидеть двумерный массив. Дело тут в том,     <br/>\n",
    "что булевый массив-маска здесь - это одномерный массив, т.е. никакого  <br/>\n",
    "транслирования не происходит."
   ]
  },
  {
   "cell_type": "code",
   "execution_count": 16,
   "metadata": {},
   "outputs": [
    {
     "data": {
      "text/plain": [
       "array([[ True,  True,  True,  True],\n",
       "       [ True,  True,  True,  True]])"
      ]
     },
     "execution_count": 16,
     "metadata": {},
     "output_type": "execute_result"
    }
   ],
   "source": [
    "x[mask] == x[[0, 2]]"
   ]
  },
  {
   "cell_type": "markdown",
   "metadata": {},
   "source": [
    "Получается, что мы просто включаем метками `True` строки, которым  <br/>\n",
    "массив индексов `row` выделяет по одному своему элементу."
   ]
  },
  {
   "cell_type": "markdown",
   "metadata": {},
   "source": [
    "Это действие, когда булевый массив становится массивом индексов, выполняет     <br/>\n",
    "функция `np.where()`. Почитай про неё, она может делать ещё кое-что полезное."
   ]
  },
  {
   "cell_type": "markdown",
   "metadata": {},
   "source": [
    "## Пример: выборка случайных точек"
   ]
  },
  {
   "cell_type": "markdown",
   "metadata": {},
   "source": [
    "\"Прихотливая\" индексация часто применяется для выборки подмассивов из матрицы."
   ]
  },
  {
   "cell_type": "code",
   "execution_count": 17,
   "metadata": {},
   "outputs": [
    {
     "data": {
      "text/plain": [
       "(100, 2)"
      ]
     },
     "execution_count": 17,
     "metadata": {},
     "output_type": "execute_result"
    }
   ],
   "source": [
    "mean = [0, 0]\n",
    "cov = [[1, 2],\n",
    "       [2, 5]]\n",
    "\n",
    "X = np.random.multivariate_normal(mean, cov, 100)  # мы всё-таки работаем со статистикой, её тоже нужно изучать\n",
    "X.shape"
   ]
  },
  {
   "cell_type": "code",
   "execution_count": 18,
   "metadata": {},
   "outputs": [
    {
     "data": {
      "image/png": "[encoded data removed]",
      "text/plain": [
       "<Figure size 432x288 with 1 Axes>"
      ]
     },
     "metadata": {},
     "output_type": "display_data"
    }
   ],
   "source": [
    "%matplotlib inline\n",
    "import matplotlib.pyplot as plt  # это разберём в одной из следующих глав (4 глава)\n",
    "import seaborn; seaborn.set()  # для стиля графика\n",
    "\n",
    "plt.scatter(X[:, 0], X[:, 1]);  # берём сначала x, а затем y"
   ]
  },
  {
   "cell_type": "markdown",
   "metadata": {},
   "source": [
    "Выбираем 20 случайных точек."
   ]
  },
  {
   "cell_type": "code",
   "execution_count": 19,
   "metadata": {},
   "outputs": [
    {
     "data": {
      "text/plain": [
       "array([ 5, 85, 43, 56, 36, 71, 94, 62,  9, 32, 75, 24, 35, 39, 44, 63, 20,\n",
       "       45, 81, 82])"
      ]
     },
     "execution_count": 19,
     "metadata": {},
     "output_type": "execute_result"
    }
   ],
   "source": [
    "indices = np.random.choice(X.shape[0], 20, replace=False)  # replace=False - значит, что повторов не будет\n",
    "indices"
   ]
  },
  {
   "cell_type": "code",
   "execution_count": 20,
   "metadata": {},
   "outputs": [
    {
     "data": {
      "text/plain": [
       "(20, 2)"
      ]
     },
     "execution_count": 20,
     "metadata": {},
     "output_type": "execute_result"
    }
   ],
   "source": [
    "selection = X[indices]  # а вот и гвоздь программы\n",
    "selection.shape"
   ]
  },
  {
   "cell_type": "markdown",
   "metadata": {},
   "source": [
    "Чтобы увидеть выбранные точки, мы всего лишь нарисуем поверх другую диаграмму,  <br/>\n",
    "где выбранные точки выделены ... другим цветом. В книге они выделяются иначе."
   ]
  },
  {
   "cell_type": "code",
   "execution_count": 39,
   "metadata": {},
   "outputs": [
    {
     "data": {
      "image/png": "[encoded data removed]",
      "text/plain": [
       "<Figure size 432x288 with 1 Axes>"
      ]
     },
     "metadata": {
      "needs_background": "light"
     },
     "output_type": "display_data"
    }
   ],
   "source": [
    "plt.scatter(X[:, 0], X[:, 1], alpha = 0.3)\n",
    "plt.scatter(selection[:, 0], selection[:, 1], facecolor=\"black\");"
   ]
  },
  {
   "cell_type": "markdown",
   "metadata": {},
   "source": [
    "> Подобная стратегия часто используется для быстрого секционирования наборов данных,        <br/>\n",
    "> часто требуемого при разделении на обучающую/тестовую последовательности для              <br/>\n",
    "> проверки статистических моделей (см. раздел \"Гиперпараметры и проверка модели\" главы 5),  <br/>\n",
    "> а также в выборочных методах ответа на статистические вопросы."
   ]
  },
  {
   "cell_type": "markdown",
   "metadata": {},
   "source": [
    "## Изменение значений с помощью прихотливой индексации"
   ]
  },
  {
   "cell_type": "markdown",
   "metadata": {},
   "source": [
    "Т.к. \"прихотливая\" даёт нам полный доступ к значениям, мы можем  <br/>\n",
    "не только считывать их, но ещё и изменять."
   ]
  },
  {
   "cell_type": "code",
   "execution_count": 22,
   "metadata": {},
   "outputs": [
    {
     "data": {
      "text/plain": [
       "array([ 0, 77, 77,  3, 77,  5,  6,  7,  8,  9])"
      ]
     },
     "execution_count": 22,
     "metadata": {},
     "output_type": "execute_result"
    }
   ],
   "source": [
    "x = np.arange(10)\n",
    "i = [2, 1, 4]\n",
    "\n",
    "x[i] = 77  # как и писалось, транслирование применяется повсеместно\n",
    "x"
   ]
  },
  {
   "cell_type": "code",
   "execution_count": 23,
   "metadata": {},
   "outputs": [
    {
     "data": {
      "text/plain": [
       "array([ 0, 87, 87,  3, 87,  5,  6,  7,  8,  9])"
      ]
     },
     "execution_count": 23,
     "metadata": {},
     "output_type": "execute_result"
    }
   ],
   "source": [
    "x[i] += 10\n",
    "x"
   ]
  },
  {
   "cell_type": "markdown",
   "metadata": {},
   "source": [
    "Но есть некоторые не очень очевидные моменты."
   ]
  },
  {
   "cell_type": "code",
   "execution_count": 24,
   "metadata": {},
   "outputs": [
    {
     "data": {
      "text/plain": [
       "array([6, 0, 0, 0, 0])"
      ]
     },
     "execution_count": 24,
     "metadata": {},
     "output_type": "execute_result"
    }
   ],
   "source": [
    "x = np.zeros(5, dtype=int)  # имя функции при инициализации - zeros(size, dtype=float, order='C')\n",
    "  # [0, 0, 0, 0, 0]         # order тут - это стиль размещения элементов массива в памяти - или 'C' или 'F' (Fortran)\n",
    "x[ [0, 0] ] = [2, 6]\n",
    "x"
   ]
  },
  {
   "cell_type": "markdown",
   "metadata": {},
   "source": [
    "А как-же `2`? Тут дело в том, что сначала выполнилось   <br/>\n",
    "присваивание `x[0] = 2`, и сразу же следом `x[0] = 6`.   "
   ]
  },
  {
   "cell_type": "markdown",
   "metadata": {},
   "source": [
    "Довольно логично, но посмотри на такую операцию:"
   ]
  },
  {
   "cell_type": "code",
   "execution_count": 25,
   "metadata": {},
   "outputs": [
    {
     "data": {
      "text/plain": [
       "array([6, 0, 1, 1, 0])"
      ]
     },
     "execution_count": 25,
     "metadata": {},
     "output_type": "execute_result"
    }
   ],
   "source": [
    "i = [2, 3, 3]\n",
    "x[i] += 1\n",
    "x"
   ]
  },
  {
   "cell_type": "markdown",
   "metadata": {},
   "source": [
    "Можно было ожидать, что `x[3]` будет хранить 2, т.к. мы его индексировали два раза.       <br/>\n",
    "Но, на самом деле, операция `x[i] += 1`, развёртывающаяся в `x[i] = x[i] + 1`,            <br/>\n",
    "проводит буферизацию. Т.е. значение она считывает из исходного `x`, не меняя его,         <br/>\n",
    "и записывает результат операции с ним в возвращаемый буфер - `x[i] = [0, 0, 0] + 1`.              "
   ]
  },
  {
   "cell_type": "markdown",
   "metadata": {},
   "source": [
    "Чтобы избежать буферизации, и оперировать исходный массив,  <br/>\n",
    "существует метод `at()` универсальных функций."
   ]
  },
  {
   "cell_type": "code",
   "execution_count": 26,
   "metadata": {},
   "outputs": [
    {
     "data": {
      "text/plain": [
       "array([0., 0., 1., 2., 0.])"
      ]
     },
     "execution_count": 26,
     "metadata": {},
     "output_type": "execute_result"
    }
   ],
   "source": [
    "x = np.zeros(5)\n",
    "np.add.at(x, i, 1)  # at(a, indecex, b=None)\n",
    "x"
   ]
  },
  {
   "cell_type": "markdown",
   "metadata": {},
   "source": [
    "Есть схожый по духу метод `reduceat()`, о котором ты можешь прочитать  <br/>\n",
    "в документации. Я об него \"зубы сломал\", не зная английский."
   ]
  },
  {
   "cell_type": "markdown",
   "metadata": {},
   "source": [
    "## Пример: разбиение данных на интервалы"
   ]
  },
  {
   "cell_type": "markdown",
   "metadata": {},
   "source": [
    "Допустим, мы хотим собственноручно расчитать гистограмму."
   ]
  },
  {
   "cell_type": "code",
   "execution_count": 27,
   "metadata": {},
   "outputs": [],
   "source": [
    "np.random.seed(42)\n",
    "x = np.random.randn(100)\n",
    "\n",
    "# Расчитываем гистрограмму вручную\n",
    "bins = np.linspace(-5, 5, 21)  # просчитываем точки, между которыми будут интервалы.\n",
    "                               # Почему 21? Чтобы получаемы числа были более ровными - т.е. не 1.33333, а 1.4.\n",
    "                               # Вот моя формула собственного производства для np.linspace() - (end - start)/(size - 1)\n",
    "                               # Эта формула даст тебе разницу между значениями, которых вернёт функция.\n",
    "                               # end - start здесь - это сколько целых чисел в отрезке, не включая start,\n",
    "                               # а от size отнимаем 1 для того, чтобы выделить место под start.\n",
    "counts = np.zeros_like(bins)  # наша будущая таблица рекордов\n",
    "\n",
    "# Находим подходячий интервал для каждого x\n",
    "i = np.searchsorted(bins, x)  # np.searchsorted() здесь берёт каждый элемент из x и находит для него\n",
    "                              # подходящее место в bins, чтобы не нарушать порядок по возрастанию.\n",
    "                              # Возвращает она индекс подходящего места, который для нас - интервал\n",
    "\n",
    "# Добавляем по очку каждому интервалу\n",
    "np.add.at(counts, i, 1)"
   ]
  },
  {
   "cell_type": "markdown",
   "metadata": {},
   "source": [
    "Теперь у нас есть готовый массив, который осталось лишь только визулизировать.  <br/>\n",
    "ось X здесь будет `bins`, а осью Y станет наш счёт, т.е. `counts`."
   ]
  },
  {
   "cell_type": "code",
   "execution_count": 28,
   "metadata": {},
   "outputs": [
    {
     "name": "stderr",
     "output_type": "stream",
     "text": [
      "D:\\dev\\anaconda\\lib\\site-packages\\ipykernel_launcher.py:1: MatplotlibDeprecationWarning: Passing the drawstyle with the linestyle as a single string is deprecated since Matplotlib 3.1 and support will be removed in 3.3; please pass the drawstyle separately using the drawstyle keyword argument to Line2D or set_drawstyle() method (or ds/set_ds()).\n",
      "  \"\"\"Entry point for launching an IPython kernel.\n"
     ]
    },
    {
     "data": {
      "image/png": "[encoded data removed]",
      "text/plain": [
       "<Figure size 432x288 with 1 Axes>"
      ]
     },
     "metadata": {
      "needs_background": "light"
     },
     "output_type": "display_data"
    }
   ],
   "source": [
    "plt.plot(bins, counts, linestyle=\"steps\");"
   ]
  },
  {
   "cell_type": "markdown",
   "metadata": {},
   "source": [
    "Как видим, у нас есть небольшое смещение к тёмной стороне,   <br/>\n",
    "т.е. к отрицательным числам. И большущее предупреждение выше."
   ]
  },
  {
   "cell_type": "markdown",
   "metadata": {},
   "source": [
    "Если нет необходимости самим всё расчитывать, то пользуся функцией `plt.hist()`."
   ]
  },
  {
   "cell_type": "code",
   "execution_count": 29,
   "metadata": {},
   "outputs": [
    {
     "data": {
      "image/png": "[encoded data removed]",
      "text/plain": [
       "<Figure size 432x288 with 1 Axes>"
      ]
     },
     "metadata": {
      "needs_background": "light"
     },
     "output_type": "display_data"
    }
   ],
   "source": [
    "plt.hist(x, bins, histtype=\"step\");"
   ]
  },
  {
   "cell_type": "markdown",
   "metadata": {},
   "source": [
    "Да, очень похоже. Для расчёта рейтинга разбиения по интервалам Matplotlib   <br/>\n",
    "пользуется функцией `np.histogram()`, выполняющей примерно те же действия,  <br/>\n",
    "что сделали мы. Давай же узнаем кто быстрее."
   ]
  },
  {
   "cell_type": "code",
   "execution_count": 30,
   "metadata": {},
   "outputs": [
    {
     "name": "stdout",
     "output_type": "stream",
     "text": [
      "NumPy-версия:\n",
      "24.3 µs ± 734 ns per loop (mean ± std. dev. of 7 runs, 10000 loops each)\n",
      "Наша версия:\n",
      "11.9 µs ± 264 ns per loop (mean ± std. dev. of 7 runs, 100000 loops each)\n"
     ]
    }
   ],
   "source": [
    "print(\"NumPy-версия:\")\n",
    "%timeit counts, edges = np.histogram(x, bins)\n",
    "print(\"Наша версия:\")\n",
    "%timeit np.add.at(counts, np.searchsorted(bins, x), 1)"
   ]
  },
  {
   "cell_type": "markdown",
   "metadata": {},
   "source": [
    "Наша подделка работает в 2 раза быстрее оптимизированного, написанного   <br/>\n",
    "большими дядями, супер алгоритма на стеройдах из NumPy! Но как?          <br/>\n",
    "Дело не в том, что мы оказались умнее. Просто `np.histogram()` расчитан  <br/>\n",
    "на гораздо болшую производительность. И, ещё, он более гибкий.           <br/>\n",
    "Давай создадим более реальные условия и протеструем их заного."
   ]
  },
  {
   "cell_type": "code",
   "execution_count": 31,
   "metadata": {},
   "outputs": [
    {
     "name": "stdout",
     "output_type": "stream",
     "text": [
      "NumPy-версия:\n",
      "53.6 ms ± 504 µs per loop (mean ± std. dev. of 7 runs, 10 loops each)\n",
      "Наша версия:\n",
      "87.7 ms ± 185 µs per loop (mean ± std. dev. of 7 runs, 10 loops each)\n"
     ]
    }
   ],
   "source": [
    "x = np.random.randn(1000000) # d0=1m\n",
    "print(\"NumPy-версия:\")\n",
    "%timeit counts, edges = np.histogram(x, bins)\n",
    "\n",
    "print(\"Наша версия:\")\n",
    "%timeit np.add.at(counts, np.searchsorted(bins, x), 1)"
   ]
  },
  {
   "cell_type": "markdown",
   "metadata": {},
   "source": [
    "Результаты говорят нам, что функции в NumPy, всё-таки, гораздо более предпочтительны.      <br/>\n",
    "Они почти всегда используют более лучший алгоритм, чем ты сможешь набросать, да и          <br/>\n",
    "они защищены от всяческих ошибок. Но не отчаивайся! Понимание внутреннего устройства       <br/>\n",
    "любого алгоритма уже много стоит. А если ты осилишь ещё и хороший алгоритм, которым        <br/>\n",
    "действительно пользуются, то ты будешь на более глубоком уровне понимать свой инструмент,  <br/>\n",
    "и, может быть, однажды и ты сам создашь такой алгоритм, который облегчит другим жизнь."
   ]
  }
 ],
 "metadata": {
  "kernelspec": {
   "display_name": "Python 3",
   "language": "python",
   "name": "python3"
  },
  "language_info": {
   "codemirror_mode": {
    "name": "ipython",
    "version": 3
   },
   "file_extension": ".py",
   "mimetype": "text/x-python",
   "name": "python",
   "nbconvert_exporter": "python",
   "pygments_lexer": "ipython3",
   "version": "3.7.6"
  }
 },
 "nbformat": 4,
 "nbformat_minor": 2
}
