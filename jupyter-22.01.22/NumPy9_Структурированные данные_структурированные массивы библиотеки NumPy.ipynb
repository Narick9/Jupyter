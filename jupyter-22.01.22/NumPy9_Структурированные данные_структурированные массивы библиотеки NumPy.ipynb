{
 "cells": [
  {
   "cell_type": "markdown",
   "metadata": {},
   "source": [
    "Muslimov Arthur, Last Checkpoint: 03/11/2020 <br/>\n",
    "                 Last Checkpoint: 12/05/2021"
   ]
  },
  {
   "cell_type": "code",
   "execution_count": 1,
   "metadata": {},
   "outputs": [],
   "source": [
    "import numpy as np"
   ]
  },
  {
   "cell_type": "markdown",
   "metadata": {},
   "source": [
    "Раньше мы создавали массивы, хранящие один тип данных. Как оказалось,        <br/>\n",
    "если заранее определить типы в массиве, то можно не ограничивать себя        <br/>\n",
    "этим. Здесь ты познаешь ***структурированные массивы*** (structured arrays)  <br/>\n",
    "и ***массивы записей*** (record arrays), способные эффективно хранить        <br/>\n",
    "неоднородные данные в пределах одного блока памяти. Хотя демонстрируемые     <br/>\n",
    "паттерны удобно для простых операций, они также применими и для структур     <br/>\n",
    "данных библиотеки Pandas, а имеено DataFrame, который мы обсудим позже."
   ]
  },
  {
   "cell_type": "code",
   "execution_count": 2,
   "metadata": {},
   "outputs": [
    {
     "data": {
      "text/plain": [
       "array([0, 0, 0, 0])"
      ]
     },
     "execution_count": 2,
     "metadata": {},
     "output_type": "execute_result"
    }
   ],
   "source": [
    "# Традиционное хранение\n",
    "x = np.zeros(4, dtype=int)  # подчеркну, dtype=int\n",
    "x"
   ]
  },
  {
   "cell_type": "code",
   "execution_count": 3,
   "metadata": {},
   "outputs": [
    {
     "name": "stdout",
     "output_type": "stream",
     "text": [
      "name:   Alice\n",
      "age:    25\n",
      "weight: 55.0\n"
     ]
    }
   ],
   "source": [
    "name = [\"Alice\", \"Bob\", \"Cathy\", \"Doug\"]\n",
    "age = [25, 45, 37, 19]\n",
    "weight = [55.0, 85.5, 68.0, 61.5]\n",
    "\n",
    "print(\"name:  \", name[0])\n",
    "print(\"age:   \", age[0])\n",
    "print(\"weight:\", weight[0])"
   ]
  },
  {
   "cell_type": "markdown",
   "metadata": {},
   "source": [
    "А вот как более грамомотно хранить данные, используя структурированный массив."
   ]
  },
  {
   "cell_type": "code",
   "execution_count": 4,
   "metadata": {},
   "outputs": [
    {
     "name": "stdout",
     "output_type": "stream",
     "text": [
      "[('name', '<U10'), ('age', '<i4'), ('weight', '<f8')]\n"
     ]
    }
   ],
   "source": [
    "data = np.zeros(4, dtype={\"names\":(\"name\", \"age\", \"weight\"),\n",
    "                          \"formats\":('U10', 'i4', 'f8')})  # что-то новенькое\n",
    "print(data.dtype)"
   ]
  },
  {
   "cell_type": "markdown",
   "metadata": {},
   "source": [
    "`'U10'` означает \"строка в кодировке Unicode максимальной длины 10\",      <br/>\n",
    "`'i4'` - \"4-байтное целое число\", а `'f8'` - 8-байтное число с плавающей  <br/>\n",
    "точкой. Другие варианты типов ты увидишь в следующем подразделе."
   ]
  },
  {
   "cell_type": "code",
   "execution_count": 5,
   "metadata": {},
   "outputs": [
    {
     "name": "stdout",
     "output_type": "stream",
     "text": [
      "[('Alice', 25, 55. ) ('Bob', 45, 85.5) ('Cathy', 37, 68. )\n",
      " ('Doug', 19, 61.5)]\n"
     ]
    }
   ],
   "source": [
    "data[\"name\"] = name\n",
    "data[\"age\"] = age\n",
    "data[\"weight\"] = weight\n",
    "print(data)"
   ]
  },
  {
   "cell_type": "markdown",
   "metadata": {},
   "source": [
    "Такой вариант хранения несколько удобнее. Доступ к данным облегчён."
   ]
  },
  {
   "cell_type": "code",
   "execution_count": 6,
   "metadata": {},
   "outputs": [
    {
     "data": {
      "text/plain": [
       "array(['Alice', 'Bob', 'Cathy', 'Doug'], dtype='<U10')"
      ]
     },
     "execution_count": 6,
     "metadata": {},
     "output_type": "execute_result"
    }
   ],
   "source": [
    "data[\"name\"]  # выводим имена"
   ]
  },
  {
   "cell_type": "code",
   "execution_count": 7,
   "metadata": {},
   "outputs": [
    {
     "data": {
      "text/plain": [
       "('Alice', 25, 55.)"
      ]
     },
     "execution_count": 7,
     "metadata": {},
     "output_type": "execute_result"
    }
   ],
   "source": [
    "data[0]  # выводим первую строку данных"
   ]
  },
  {
   "cell_type": "code",
   "execution_count": 8,
   "metadata": {},
   "outputs": [
    {
     "data": {
      "text/plain": [
       "'Doug'"
      ]
     },
     "execution_count": 8,
     "metadata": {},
     "output_type": "execute_result"
    }
   ],
   "source": [
    "data[-1][\"name\"]  # имя последней строки"
   ]
  },
  {
   "cell_type": "markdown",
   "metadata": {},
   "source": [
    "Напоминает csv-формат, не так ли?"
   ]
  },
  {
   "cell_type": "markdown",
   "metadata": {},
   "source": [
    "Фишки обычных массивов им также доступны. Например, вот булевая маска."
   ]
  },
  {
   "cell_type": "code",
   "execution_count": 9,
   "metadata": {},
   "outputs": [
    {
     "data": {
      "text/plain": [
       "array(['Alice', 'Doug'], dtype='<U10')"
      ]
     },
     "execution_count": 9,
     "metadata": {},
     "output_type": "execute_result"
    }
   ],
   "source": [
    "data[data[\"age\"] < 30][\"name\"]  # имена людей с возрастом менее 30"
   ]
  },
  {
   "cell_type": "markdown",
   "metadata": {},
   "source": [
    "Если ты хочешь сделать фокус покруче, то лучше использовать Pandas,  <br/>\n",
    "объект DataFrame которого основан на массивах NumPy и имеет          <br/>\n",
    "массу полезной функциональности по работе с данными."
   ]
  },
  {
   "cell_type": "markdown",
   "metadata": {},
   "source": [
    "## Создание структурированных массивов"
   ]
  },
  {
   "cell_type": "markdown",
   "metadata": {},
   "source": [
    "Есть несколько способов задания типа данных для структурированных массисов.  <br/>\n",
    "Ты уже видел метод использования словаря."
   ]
  },
  {
   "cell_type": "code",
   "execution_count": 10,
   "metadata": {},
   "outputs": [
    {
     "data": {
      "text/plain": [
       "dtype([('name', '<U10'), ('age', '<i4'), ('weight', '<f8')])"
      ]
     },
     "execution_count": 10,
     "metadata": {},
     "output_type": "execute_result"
    }
   ],
   "source": [
    "np.dtype({'names':('name', 'age', 'weight'),\n",
    "          'formats':('U10', 'i4', 'f8')})"
   ]
  },
  {
   "cell_type": "markdown",
   "metadata": {},
   "source": [
    "Кстати, форматы можно задавать и привычными типами Python или NumPy."
   ]
  },
  {
   "cell_type": "code",
   "execution_count": 11,
   "metadata": {},
   "outputs": [
    {
     "data": {
      "text/plain": [
       "dtype([('name', '<U10'), ('age', '<i8'), ('weight', '<f8')])"
      ]
     },
     "execution_count": 11,
     "metadata": {},
     "output_type": "execute_result"
    }
   ],
   "source": [
    "np.dtype({'names':('name', 'age', 'weight'),\n",
    "          'formats':((np.str_, 10), int, np.float64)})  # да, есть и np.str_"
   ]
  },
  {
   "cell_type": "markdown",
   "metadata": {},
   "source": [
    "Составные типы можно задать и без словаря - списком кортежей, например."
   ]
  },
  {
   "cell_type": "code",
   "execution_count": 12,
   "metadata": {},
   "outputs": [
    {
     "data": {
      "text/plain": [
       "dtype([('name', 'S10'), ('age', '<i4'), ('weight', '<f8')])"
      ]
     },
     "execution_count": 12,
     "metadata": {},
     "output_type": "execute_result"
    }
   ],
   "source": [
    "np.dtype([('name', 'S10'), ('age', 'i4'), ('weight', 'f8')])  # S10 тоже str, но в Unicode"
   ]
  },
  {
   "cell_type": "markdown",
   "metadata": {},
   "source": [
    "Можно обойтись и без названий типов, отправив просто строку самих типов."
   ]
  },
  {
   "cell_type": "code",
   "execution_count": 13,
   "metadata": {},
   "outputs": [
    {
     "data": {
      "text/plain": [
       "dtype([('f0', 'S10'), ('f1', '<i4'), ('f2', '<f8')])"
      ]
     },
     "execution_count": 13,
     "metadata": {},
     "output_type": "execute_result"
    }
   ],
   "source": [
    "np.dtype('S10, i4, f8')  # типы отправляются строкой и разделяются запятыми"
   ]
  },
  {
   "cell_type": "markdown",
   "metadata": {},
   "source": [
    "Да, строковые коды форматов - немного непревычное явление, но затруднений        <br/>\n",
    "для восприятия они вызвать не должны. Все они подчиняются простым принципам.     <br/>\n",
    "Первый символ необязателен - `'<'` или `'>'` - \"число с прямым порядком байтов\"  <br/>\n",
    "или \"число с обратным порядком байтов\" - задают порядок значащих битов.          <br/>\n",
    "Следующий символ задаёт уже сам тип данных: символ, байтовый тип, целое число,   <br/>\n",
    "число с плавающей точкой и т.д. Последние символы задают размер в байтах."
   ]
  },
  {
   "cell_type": "markdown",
   "metadata": {},
   "source": [
    "**Символ**   | **Описание**                        | **Пример**\n",
    ":------------|:------------------------------------|:--------------------------------\n",
    "`'b'`        | Байтовый тип                        | `np.dtype('b')`\n",
    "`'i'`        | Знаковое целое число                | `np.dtype('i4')` == `np.int32`\n",
    "`'u'`        | Беззнаковое целое число             | `np.dtype(u1)` == `np.uint8`\n",
    "`'f'`        | Число с плавающей точкой            | `np.dtype(f8)` == `float`\n",
    "`'c'`        | Комплексное число с плавающе точкой | `np.dtype(c16)` == `np.complex128`\n",
    "`'S'`, `'a'` | Строка                              | `np.dtype(a12)`\n",
    "`'U'`        | Строка в кодировке Unicode          | `np.dtype(U)` == `np.str_`\n",
    "`'V'`        | Неформатированные данные (тип void) | `np.dtype(V)` == `np.void`"
   ]
  },
  {
   "cell_type": "markdown",
   "metadata": {},
   "source": [
    "## Более продвинутые типы данных"
   ]
  },
  {
   "cell_type": "markdown",
   "metadata": {},
   "source": [
    "Можно создавать ещё более продвинутые типы данных, хранящие числа и массивы бок о бок."
   ]
  },
  {
   "cell_type": "code",
   "execution_count": 15,
   "metadata": {},
   "outputs": [
    {
     "name": "stdout",
     "output_type": "stream",
     "text": [
      "(0, [[0., 0., 0.], [0., 0., 0.], [0., 0., 0.]])\n",
      "[[0. 0. 0.]\n",
      " [0. 0. 0.]\n",
      " [0. 0. 0.]]\n"
     ]
    }
   ],
   "source": [
    "tp = np.dtype([('id', 'i4'), ('matrix', 'f8', (3, 3))]) # тритий элемент в кортеже - это форма\n",
    "X = np.zeros(1, dtype=tp)\n",
    "print(X[0])  # по сути, можно было вывести и весь X, т.к. он хранит только один элемент\n",
    "print(X['matrix'][0])  # можно и x[0]['matrix']. Библиотека не запутается"
   ]
  },
  {
   "cell_type": "markdown",
   "metadata": {},
   "source": [
    "Мы создали новый тип, хранящий целое число `id` и матрицу float'ов `matrix`,   <br/>\n",
    "размером 3×3. Почему мы используем массив, а не словари или класс? Потому      <br/>\n",
    "что `dtype` из NumPy напрямую отражает вид структуры языка C, так что          <br/>\n",
    "никаких посредников между тобой и данными нет. Эта возможность очень полезна,  <br/>\n",
    "если ты хочешь написать интерфейс на Python для какой-нибудь C или Fortran     <br/>\n",
    "библиотеки, использующей структуры как хранилища данных, а таковы почти все."
   ]
  },
  {
   "cell_type": "markdown",
   "metadata": {},
   "source": [
    "## Массивы записей: структурированные массивы с дополнительными возможностями"
   ]
  },
  {
   "cell_type": "markdown",
   "metadata": {},
   "source": [
    "NumPy предоставляет класс `np.recarray`, позволяющий получить доступ полям  <br/>\n",
    "как к атрибутам, а не только как ключам словаря. Вот так мы делали раньше:"
   ]
  },
  {
   "cell_type": "code",
   "execution_count": 16,
   "metadata": {},
   "outputs": [
    {
     "data": {
      "text/plain": [
       "array([25, 45, 37, 19], dtype=int32)"
      ]
     },
     "execution_count": 16,
     "metadata": {},
     "output_type": "execute_result"
    }
   ],
   "source": [
    "data['age']"
   ]
  },
  {
   "cell_type": "markdown",
   "metadata": {},
   "source": [
    "> Если же представить наши данные как массив записей, то можно обращаться  <br/>\n",
    "> к этим данным с помощью чуть более короткого синтаксиса:"
   ]
  },
  {
   "cell_type": "code",
   "execution_count": 20,
   "metadata": {},
   "outputs": [
    {
     "data": {
      "text/plain": [
       "array([25, 45, 37, 19], dtype=int32)"
      ]
     },
     "execution_count": 20,
     "metadata": {},
     "output_type": "execute_result"
    }
   ],
   "source": [
    "data_rec = data.view(np.recarray)  # метод view даёт возможность преобразовать тип данных входного массива\n",
    "data_rec.age"
   ]
  },
  {
   "cell_type": "markdown",
   "metadata": {},
   "source": [
    "Недостаток такого подхода в том, что доступ к полям массива записей влечёт  <br/>\n",
    "дополнительные накладные расходы, даже если ты использует синтаксис словаря."
   ]
  },
  {
   "cell_type": "code",
   "execution_count": 21,
   "metadata": {},
   "outputs": [
    {
     "name": "stdout",
     "output_type": "stream",
     "text": [
      "122 ns ± 2.55 ns per loop (mean ± std. dev. of 7 runs, 10000000 loops each)\n",
      "2.56 µs ± 197 ns per loop (mean ± std. dev. of 7 runs, 100000 loops each)\n",
      "3.31 µs ± 82.4 ns per loop (mean ± std. dev. of 7 runs, 100000 loops each)\n"
     ]
    }
   ],
   "source": [
    "%timeit data['age']\n",
    "%timeit data_rec['age']\n",
    "%timeit data_rec.age"
   ]
  },
  {
   "cell_type": "markdown",
   "metadata": {},
   "source": [
    "> Имеет ли смысл жертвовать дополнительным временем ради более  <br/>\n",
    "> удобного синтаксиса - зависит от вашего приложения."
   ]
  },
  {
   "cell_type": "markdown",
   "metadata": {},
   "source": [
    "## Вперёд, к Pandas"
   ]
  },
  {
   "cell_type": "markdown",
   "metadata": {},
   "source": [
    "> Этот раздел по структурированным массивам и массивам записей не случайно      <br/>\n",
    "> стоит в конце этой главы, поскольку он удачно подводит нас к теме             <br/>\n",
    "> следующего рассматриваемого пакета - библиотеки Pandas. В определённых        <br/>\n",
    "> случаях не помешает знать о существовании обсуждавшихся здесь                 <br/>\n",
    "> структурированных массивах, ососбенно если вам нужно, чтобы массивы           <br/>\n",
    "> библиотеки NumPy соответствовали двоичным форматам данных в C, Fortran        <br/>\n",
    "> или другом языке программирования. Для регулярной работы со                   <br/>\n",
    "> структурированными данными намного удобнее использовать пакет Pandas, который <br/>\n",
    "> мы подробно рассмотрим в следующией главе."
   ]
  }
 ],
 "metadata": {
  "interpreter": {
   "hash": "98cb9c43b4ef2e905bd8cc8e12ac11ea5602c6caedd791714b8a631e711c40d6"
  },
  "kernelspec": {
   "display_name": "Python 3.9.6 64-bit",
   "name": "python3"
  },
  "language_info": {
   "codemirror_mode": {
    "name": "ipython",
    "version": 3
   },
   "file_extension": ".py",
   "mimetype": "text/x-python",
   "name": "python",
   "nbconvert_exporter": "python",
   "pygments_lexer": "ipython3",
   "version": "3.9.6"
  }
 },
 "nbformat": 4,
 "nbformat_minor": 2
}