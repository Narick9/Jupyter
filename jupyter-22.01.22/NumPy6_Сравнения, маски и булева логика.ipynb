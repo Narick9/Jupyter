{
 "cells": [
  {
   "cell_type": "markdown",
   "metadata": {},
   "source": [
    "Muslimov Arthur, Last Checkpoint: 02/28/2020\n",
    "                 Last Checkpoint: 11/29/2021"
   ]
  },
  {
   "cell_type": "code",
   "execution_count": 2,
   "metadata": {},
   "outputs": [],
   "source": [
    "import numpy as np"
   ]
  },
  {
   "cell_type": "code",
   "execution_count": 3,
   "metadata": {},
   "outputs": [],
   "source": [
    "import pandas as pd"
   ]
  },
  {
   "cell_type": "code",
   "execution_count": 7,
   "metadata": {},
   "outputs": [
    {
     "name": "stdout",
     "output_type": "stream",
     "text": [
      "Exception reporting mode: Minimal\n"
     ]
    }
   ],
   "source": [
    "%xmode Minimal"
   ]
  },
  {
   "cell_type": "markdown",
   "metadata": {},
   "source": [
    "*В* **этом** ***разделе*** ты увидишь использование булевых масок. \"Маскирование удобно<br/>\n",
    "для извлечения, модификации, подсчёта или других манипуляций со значениями<br/>\n",
    "в массиве по какому-либо критерию\". Например, тебе нужно узнать сколько<br/>\n",
    "солнечных дней было в прошлом году или, возможно, отсеить аномалии, когда<br/>\n",
    "за несколько дней по показателям выпадала половина месячной нормы осадков.<br/>\n",
    "\"В библиотеке NumPy булевы маски зачастую самый эффективный способ решения<br/>\n",
    "подобных задач.\""
   ]
  },
  {
   "cell_type": "markdown",
   "metadata": {},
   "source": [
    "## Пример: подсчёт количества дождливых дней"
   ]
  },
  {
   "cell_type": "code",
   "execution_count": 14,
   "metadata": {},
   "outputs": [
    {
     "data": {
      "text/plain": [
       "(365,)"
      ]
     },
     "execution_count": 14,
     "metadata": {},
     "output_type": "execute_result"
    }
   ],
   "source": [
    "days = pd.read_csv(\"./data/Seattle2014.csv\")['PRCP'].values\n",
    "rain_inches = days / 254  # 1/10мм -> дюймы\n",
    "rain_inches.shape"
   ]
  },
  {
   "cell_type": "markdown",
   "metadata": {},
   "source": [
    "365 дней. Всё правильно. Давай теперь построим график."
   ]
  },
  {
   "cell_type": "code",
   "execution_count": 15,
   "metadata": {},
   "outputs": [
    {
     "data": {
      "image/png": "[encoded data removed]",
      "text/plain": [
       "<Figure size 432x288 with 1 Axes>"
      ]
     },
     "metadata": {},
     "output_type": "display_data"
    }
   ],
   "source": [
    "%matplotlib inline\n",
    "    # помни, в командной строке такого нет\n",
    "import matplotlib.pyplot as plt\n",
    "import seaborn; seaborn.set()\n",
    "\n",
    "plt.hist(rain_inches, 40);  \n",
    "    # ; - мы же не хотим получить ещё и весь массив на выходе"
   ]
  },
  {
   "cell_type": "markdown",
   "metadata": {},
   "source": [
    "Видишь еле заметные полоски снизу? Это тоже показатели, но от столбцов   <br/>\n",
    "осталась только верхушка в виде белой оконтовки. Видимо, это одно        <br/>\n",
    "из обновлений, т.к. в книге все столбцы хорошо видны. Ещё в книге на     <br/>\n",
    "картике нет пробела перед первым столбцом. Ну ладно, я так отдыхаю,      <br/>\n",
    "описывая незначительные вещи в перерыве между делом.                     "
   ]
  },
  {
   "cell_type": "markdown",
   "metadata": {},
   "source": [
    "Теперь ты видишь общую картину на этой гистограмме. Вопреки расхожему  <br/>\n",
    "мнению, в большинстве дней в Сиэтле в тот год не выпало и капли.       <br/>\n",
    "Однако, по ней нельзя точно сказать, например, сколько дней прошло     <br/>\n",
    "без дождя. Как и сколько осадков выпало вообще.                        <br/>"
   ]
  },
  {
   "cell_type": "markdown",
   "metadata": {},
   "source": [
    "\"**Углубляемся в изучение данных**\". Ты, конечно, можешь попробывать       <br/>\n",
    "ответить на эти вопросы своими силами, но мы это уже обсуждали.            <br/>\n",
    "Лучше использовать эффективные универсальные функции для поэлементного     <br/>\n",
    "выполнения операций. Так выйдет быстрее и безопаснее.                      <br/>\n",
    "\"В то же время можно использовать универсальные функции для поэлементного  <br/>\n",
    "*сравнения* в массивах, после чего применять результат для ответа на       <br/>\n",
    "интересующие нас вопросы. Мы ненадолго отложим наши данные в сторону       <br/>\n",
    "и обсудим некоторые общие инструменты библиотеки NumPy, позволяющие        <br/>\n",
    "применять *маскирование* (masking) для быстрого ответа на подобные         <br/>\n",
    "вопросы\". <То, что я отмечаю кавычками - дословные цитаты из книги.        <br/>\n",
    "Мне они просто нравятся.> "
   ]
  },
  {
   "cell_type": "markdown",
   "metadata": {},
   "source": [
    "## Операторы сравнения как универсальные функции"
   ]
  },
  {
   "cell_type": "markdown",
   "metadata": {},
   "source": [
    "Ты уже видел как работают арифметические универсальные функции,  <br/>\n",
    "вроде + и -. В NumPy также есть функции сравнения, как > и <.    <br/>\n",
    "И тоже в виде универсальных функций. Их результат - это массив   <br/>\n",
    "True или False - это смотря как выполняет условие элемент.       "
   ]
  },
  {
   "cell_type": "code",
   "execution_count": 16,
   "metadata": {},
   "outputs": [],
   "source": [
    "x = np.array([1, 2, 3, 4, 5])  # или np.arange(1, 6)"
   ]
  },
  {
   "cell_type": "code",
   "execution_count": 17,
   "metadata": {},
   "outputs": [
    {
     "data": {
      "text/plain": [
       "array([ True,  True, False, False, False])"
      ]
     },
     "execution_count": 17,
     "metadata": {},
     "output_type": "execute_result"
    }
   ],
   "source": [
    "x < 3  # меньше?"
   ]
  },
  {
   "cell_type": "code",
   "execution_count": 18,
   "metadata": {},
   "outputs": [
    {
     "data": {
      "text/plain": [
       "array([False, False, False,  True,  True])"
      ]
     },
     "execution_count": 18,
     "metadata": {},
     "output_type": "execute_result"
    }
   ],
   "source": [
    "x > 3  # больше?"
   ]
  },
  {
   "cell_type": "code",
   "execution_count": 19,
   "metadata": {},
   "outputs": [
    {
     "data": {
      "text/plain": [
       "array([ True,  True,  True, False, False])"
      ]
     },
     "execution_count": 19,
     "metadata": {},
     "output_type": "execute_result"
    }
   ],
   "source": [
    "x <= 3  # меньше или равно?"
   ]
  },
  {
   "cell_type": "code",
   "execution_count": 20,
   "metadata": {},
   "outputs": [
    {
     "data": {
      "text/plain": [
       "array([False, False,  True,  True,  True])"
      ]
     },
     "execution_count": 20,
     "metadata": {},
     "output_type": "execute_result"
    }
   ],
   "source": [
    "x >= 3  # больше или равно?"
   ]
  },
  {
   "cell_type": "code",
   "execution_count": 21,
   "metadata": {},
   "outputs": [
    {
     "data": {
      "text/plain": [
       "array([False, False,  True, False, False])"
      ]
     },
     "execution_count": 21,
     "metadata": {},
     "output_type": "execute_result"
    }
   ],
   "source": [
    "x == 3  # равно?"
   ]
  },
  {
   "cell_type": "code",
   "execution_count": 22,
   "metadata": {},
   "outputs": [
    {
     "data": {
      "text/plain": [
       "array([ True,  True, False,  True,  True])"
      ]
     },
     "execution_count": 22,
     "metadata": {},
     "output_type": "execute_result"
    }
   ],
   "source": [
    "x != 3  # не равно?"
   ]
  },
  {
   "cell_type": "markdown",
   "metadata": {},
   "source": [
    "В общем, всё также, как и с числами, но с поправкой на транслирование.  <br/>\n",
    "Также можно строить и констркуции посложнее."
   ]
  },
  {
   "cell_type": "code",
   "execution_count": 23,
   "metadata": {},
   "outputs": [
    {
     "data": {
      "text/plain": [
       "array([False,  True, False, False, False])"
      ]
     },
     "execution_count": 23,
     "metadata": {},
     "output_type": "execute_result"
    }
   ],
   "source": [
    "(x * 2) == (x ** 2)  # ну разве не прекрасно?"
   ]
  },
  {
   "cell_type": "markdown",
   "metadata": {},
   "source": [
    "По аналогии с арифметическими коллегами, здешние операторы - это всего лишь       <br/>\n",
    "обёртка над универсальными функциями. И ты также захочешь испльзовать их, т.к.   <br/>\n",
    "они поддерживают ещё и доп. фишки. Например, настройка параметра out.          "
   ]
  },
  {
   "cell_type": "code",
   "execution_count": 14,
   "metadata": {},
   "outputs": [
    {
     "data": {
      "text/plain": [
       "array([ True,  True, False, False, False])"
      ]
     },
     "execution_count": 14,
     "metadata": {},
     "output_type": "execute_result"
    }
   ],
   "source": [
    "np.less(x, 3)  # или x < 3"
   ]
  },
  {
   "cell_type": "markdown",
   "metadata": {},
   "source": [
    "**Оператор** | **Эквивалентная универсальная функция**\n",
    ":-----------|:----------\n",
    "==    | *np.equal()*\n",
    "!=    | *np.not_equal()*\n",
    "<     | *np.less()*\n",
    "<=    | *np.less_equal()*\n",
    "\\>     | *np.greater()*\n",
    "\\>=    | *np.greater_equal()*"
   ]
  },
  {
   "cell_type": "markdown",
   "metadata": {},
   "source": [
    "Как ты понял, это родня арифметическим универсальным функциям.        <br/>\n",
    "Универсальные функции сравнения также умеют работать с многомерными  <br/>\n",
    "массивами любого размера и формы."
   ]
  },
  {
   "cell_type": "code",
   "execution_count": 24,
   "metadata": {},
   "outputs": [
    {
     "data": {
      "text/plain": [
       "array([[ 6,  1,  4,  4],\n",
       "       [ 8, 10,  4,  6],\n",
       "       [ 3,  5,  8,  7]])"
      ]
     },
     "execution_count": 24,
     "metadata": {},
     "output_type": "execute_result"
    }
   ],
   "source": [
    "rng = np.random.RandomState(0)  # мы как-бы создаём свой генератор с состоянием 0\n",
    "x = rng.randint(1, 11, size=(3, 4))  # тоже, что np.random.randint() с семенем 0\n",
    "x"
   ]
  },
  {
   "cell_type": "code",
   "execution_count": 25,
   "metadata": {},
   "outputs": [
    {
     "data": {
      "text/plain": [
       "array([[False,  True,  True,  True],\n",
       "       [False, False,  True, False],\n",
       "       [ True, False, False, False]])"
      ]
     },
     "execution_count": 25,
     "metadata": {},
     "output_type": "execute_result"
    }
   ],
   "source": [
    "x < 5  # или же np.less(x, 5)"
   ]
  },
  {
   "cell_type": "markdown",
   "metadata": {},
   "source": [
    "Как и полагается, во всех случаях возвращяется булевый массив, а NumPy умеет  <br/>\n",
    "работать с булевыми массивами, ведь у него есть набор простых паттернов."
   ]
  },
  {
   "cell_type": "markdown",
   "metadata": {},
   "source": [
    "## Работа с булевыми массивами"
   ]
  },
  {
   "cell_type": "markdown",
   "metadata": {},
   "source": [
    "Для булёвых массивов в NumPy заготовлена множество удобных операций."
   ]
  },
  {
   "cell_type": "markdown",
   "metadata": {},
   "source": [
    "## Подсчёт количества элементов"
   ]
  },
  {
   "cell_type": "markdown",
   "metadata": {},
   "source": [
    "Тебе нужно узнать сколько True-элементов в массиве? Это случай np.count_nonzero()."
   ]
  },
  {
   "cell_type": "code",
   "execution_count": 27,
   "metadata": {},
   "outputs": [
    {
     "data": {
      "text/plain": [
       "5"
      ]
     },
     "execution_count": 27,
     "metadata": {},
     "output_type": "execute_result"
    }
   ],
   "source": [
    "np.count_nonzero(x < 5)  # сколько элементов меньше 5?"
   ]
  },
  {
   "cell_type": "markdown",
   "metadata": {},
   "source": [
    "Да, и впрадву 5, я проверил. Ещё можно использовать функцию np.sum().  <br/>\n",
    "True для неё - это 1, а False - 0. Всё по какону Си."
   ]
  },
  {
   "cell_type": "code",
   "execution_count": 28,
   "metadata": {},
   "outputs": [
    {
     "data": {
      "text/plain": [
       "5"
      ]
     },
     "execution_count": 28,
     "metadata": {},
     "output_type": "execute_result"
    }
   ],
   "source": [
    "np.sum(x < 5)  # это функция агрегирования"
   ]
  },
  {
   "cell_type": "markdown",
   "metadata": {},
   "source": [
    "Также не стоит забывать про параметр axis. Полезная штука."
   ]
  },
  {
   "cell_type": "code",
   "execution_count": 29,
   "metadata": {},
   "outputs": [
    {
     "data": {
      "text/plain": [
       "array([3, 1, 1])"
      ]
     },
     "execution_count": 29,
     "metadata": {},
     "output_type": "execute_result"
    }
   ],
   "source": [
    "np.count_nonzero(x < 5, axis=1)"
   ]
  },
  {
   "cell_type": "markdown",
   "metadata": {},
   "source": [
    "Видимо, раньше у np.sum() было преимущество в виде возможности настраивать  <br/>\n",
    "ось проведения операции параметром axis. Об этом написано в книге. Но, как  <br/>\n",
    "мы видим, np.count_nonzero() тоже умеет так делать. Научился, наверное."
   ]
  },
  {
   "cell_type": "markdown",
   "metadata": {},
   "source": [
    "Если ты хочешь знать, есть ли хоть один True-элемент в массиве, или все ли элементы  <br/>\n",
    "True, можешь воспользоваться универсальными функциями **np.any()** и **np.all()**."
   ]
  },
  {
   "cell_type": "code",
   "execution_count": 20,
   "metadata": {},
   "outputs": [
    {
     "data": {
      "text/plain": [
       "array([[ 6,  1,  4,  4],\n",
       "       [ 8, 10,  4,  6],\n",
       "       [ 3,  5,  8,  7]])"
      ]
     },
     "execution_count": 20,
     "metadata": {},
     "output_type": "execute_result"
    }
   ],
   "source": [
    "x  # для напоминания"
   ]
  },
  {
   "cell_type": "code",
   "execution_count": 21,
   "metadata": {},
   "outputs": [
    {
     "data": {
      "text/plain": [
       "True"
      ]
     },
     "execution_count": 21,
     "metadata": {},
     "output_type": "execute_result"
    }
   ],
   "source": [
    "np.any(x > 9)  # хоть один из них больше девяти?"
   ]
  },
  {
   "cell_type": "code",
   "execution_count": 22,
   "metadata": {},
   "outputs": [
    {
     "data": {
      "text/plain": [
       "False"
      ]
     },
     "execution_count": 22,
     "metadata": {},
     "output_type": "execute_result"
    }
   ],
   "source": [
    "np.all(x == 7)  # везде ли тут 7-ки?"
   ]
  },
  {
   "cell_type": "markdown",
   "metadata": {},
   "source": [
    "Эти братья тоже знакомы с axis."
   ]
  },
  {
   "cell_type": "code",
   "execution_count": 23,
   "metadata": {},
   "outputs": [
    {
     "data": {
      "text/plain": [
       "array([False,  True, False])"
      ]
     },
     "execution_count": 23,
     "metadata": {},
     "output_type": "execute_result"
    }
   ],
   "source": [
    "np.all(x > 3, axis=1)"
   ]
  },
  {
   "cell_type": "markdown",
   "metadata": {},
   "source": [
    "Да, вторая строка и впрадву отличилась по минимуму."
   ]
  },
  {
   "cell_type": "markdown",
   "metadata": {},
   "source": [
    "Ну и напоследок, хотелось бы предупредить насчёт встроенных в Python функций         <br/>\n",
    "**sum()**, **any()** и **all()**. Они могут вести себя непредсказуемо со вложенными  <br/>\n",
    "массивами. Да, я знаю, что приставку **np.** ты уже пишешть по инерции, но           <br/>\n",
    "всё-таки лучше лишний раз напомнить об этом, чтобы потом не было конфузов.     "
   ]
  },
  {
   "cell_type": "markdown",
   "metadata": {},
   "source": [
    "## Булевы операторы"
   ]
  },
  {
   "cell_type": "markdown",
   "metadata": {},
   "source": [
    "Ты уже сможешь подсчитать дни с осадками больше 2 дюймов, или меньше 4.       <br/>\n",
    "Но что делать, если тебе нужно узнать кол-во дней с осадками в промежутке     <br/>\n",
    "между этими 2 и 4 дюймами? Это можно сделать, прибегая к помощи *побитовых*   <br/>\n",
    "*логических операторов* (bitwise logic operators) языка Python: &, |, ^ и ~.  <br/>\n",
    "Аналогично обычным арифметическим операторам, NumPy перегружает их как        <br/>\n",
    "универсальные функции. Это значит, что они также работают поэлементно.       "
   ]
  },
  {
   "cell_type": "markdown",
   "metadata": {},
   "source": [
    "Вот банальный вариант решения этой задачки."
   ]
  },
  {
   "cell_type": "code",
   "execution_count": 51,
   "metadata": {},
   "outputs": [
    {
     "data": {
      "text/plain": [
       "28"
      ]
     },
     "execution_count": 51,
     "metadata": {},
     "output_type": "execute_result"
    }
   ],
   "source": [
    "np.sum( (rain_inches >= 0.2) & (rain_inches <= 0.4) )  # так же, как и с числами, но и с поправкой на транслирование"
   ]
  },
  {
   "cell_type": "markdown",
   "metadata": {},
   "source": [
    "\"Видим, что в 2014 году в Сиэтле было 28 дней с толщиной слоя осадков от 0.2 до 0.4 дюймов\""
   ]
  },
  {
   "cell_type": "markdown",
   "metadata": {},
   "source": [
    "Заметь, что стандартное для Python ключевой слово and здесь работать не будет."
   ]
  },
  {
   "cell_type": "markdown",
   "metadata": {},
   "source": [
    "Стоит сказать, что скобки здесь отнюдь не для красоты. Помни, что приоритет  <br/>\n",
    "стоит у побитовых операторов. Без скобок приоритет бы выглядил так:"
   ]
  },
  {
   "cell_type": "code",
   "execution_count": 52,
   "metadata": {},
   "outputs": [
    {
     "ename": "TypeError",
     "evalue": "ufunc 'bitwise_and' not supported for the input types, and the inputs could not be safely coerced to any supported types according to the casting rule ''safe''",
     "output_type": "error",
     "traceback": [
      "\u001b[0;31mTypeError\u001b[0m\u001b[0;31m:\u001b[0m ufunc 'bitwise_and' not supported for the input types, and the inputs could not be safely coerced to any supported types according to the casting rule ''safe''\n"
     ]
    }
   ],
   "source": [
    "rain_inches >= (2 & rain_inches) <= 4  # будет ошибка, т.к. (int)2 & (floats)rain_inches не ладят"
   ]
  },
  {
   "cell_type": "markdown",
   "metadata": {},
   "source": [
    "Верное выражение можно записать и другим видом."
   ]
  },
  {
   "cell_type": "code",
   "execution_count": 54,
   "metadata": {},
   "outputs": [
    {
     "data": {
      "text/plain": [
       "39"
      ]
     },
     "execution_count": 54,
     "metadata": {},
     "output_type": "execute_result"
    }
   ],
   "source": [
    "np.sum( ~( (rain_inches <= 0.4) | (rain_inches >= 1) ) )"
   ]
  },
  {
   "cell_type": "markdown",
   "metadata": {},
   "source": [
    "Как ты понимаешь, простор для воображения огромен. Именно по таким принципам  <br/>\n",
    "устроен низчайший мир работы компьютера, где 1 - это True, а 0 - это False."
   ]
  },
  {
   "cell_type": "markdown",
   "metadata": {},
   "source": [
    "А вот и таблица с универсальными функциями."
   ]
  },
  {
   "cell_type": "markdown",
   "metadata": {},
   "source": [
    "**Оператор** | **Эквивалентная универсальная функция**\n",
    ":------------|:----\n",
    "&            |*np.bitwise_and()*\n",
    "\\|           |*np.bitwise_or()*\n",
    "^            |*np.bitwise_xor()*\n",
    "~            |*np.bitwise_not()*"
   ]
  },
  {
   "cell_type": "markdown",
   "metadata": {},
   "source": [
    "\"С помощью этих инструментов можно начать отвечать на различные типы вопросов  <br/>\n",
    "относительно наших данных по осадкам. Вот примеры результатов, которые можно   <br/>\n",
    "вычислить путём сочетания маскирования с агрегированием:\""
   ]
  },
  {
   "cell_type": "code",
   "execution_count": 55,
   "metadata": {},
   "outputs": [
    {
     "name": "stdout",
     "output_type": "stream",
     "text": [
      "Number days without rain    :  215\n",
      "Number days with rain       :  150\n",
      "Days with more than 0.5 inches:  37\n",
      "Rainy days with < 0.1 inches  :  261\n"
     ]
    }
   ],
   "source": [
    "print(\"Number days without rain    : \", np.sum(rain_inches == 0))\n",
    "print(\"Number days with rain       : \", np.sum(rain_inches != 0))\n",
    "print(\"Days with more than 0.5 inches: \", np.sum(rain_inches > 0.5))\n",
    "print(\"Rainy days with < 0.1 inches  : \", np.sum(rain_inches < 0.1))"
   ]
  },
  {
   "cell_type": "markdown",
   "metadata": {},
   "source": [
    "## Булевы массивы как маски"
   ]
  },
  {
   "cell_type": "markdown",
   "metadata": {},
   "source": [
    "Подсчитывание кол-ва элементов, удовлетворяющих условие, конечно хорошо, но получение  <br/>\n",
    "самих элементов ещё лучше! Сейчас ты научишься надевать булевы маски на массивы."
   ]
  },
  {
   "cell_type": "code",
   "execution_count": 28,
   "metadata": {},
   "outputs": [
    {
     "data": {
      "text/plain": [
       "array([[ 6,  1,  4,  4],\n",
       "       [ 8, 10,  4,  6],\n",
       "       [ 3,  5,  8,  7]])"
      ]
     },
     "execution_count": 28,
     "metadata": {},
     "output_type": "execute_result"
    }
   ],
   "source": [
    "x  # ещё раз напомню нашего подопытного"
   ]
  },
  {
   "cell_type": "markdown",
   "metadata": {},
   "source": [
    "Ты уже знаешь как по условию получать булевый массив отсюда."
   ]
  },
  {
   "cell_type": "code",
   "execution_count": 29,
   "metadata": {},
   "outputs": [
    {
     "data": {
      "text/plain": [
       "array([[ True, False, False, False],\n",
       "       [ True,  True, False,  True],\n",
       "       [False, False,  True,  True]])"
      ]
     },
     "execution_count": 29,
     "metadata": {},
     "output_type": "execute_result"
    }
   ],
   "source": [
    "x > 5"
   ]
  },
  {
   "cell_type": "markdown",
   "metadata": {},
   "source": [
    "Чтобы выбрать нужные значения, т.е. те, что прошли тест, нужно проиндексировать наш  <br/>\n",
    "массив этим булевым массивом. Другими словами, сунуть булевый массив как индекс.     <br/> \n",
    "> Такое действие называется операцией ***наложения*** или ***маскирования***."
   ]
  },
  {
   "cell_type": "code",
   "execution_count": 30,
   "metadata": {},
   "outputs": [
    {
     "data": {
      "text/plain": [
       "array([ 6,  8, 10,  6,  8,  7])"
      ]
     },
     "execution_count": 30,
     "metadata": {},
     "output_type": "execute_result"
    }
   ],
   "source": [
    "x[x > 5]  # булевый массив, выдаваемый условием, сразу становится индексом"
   ]
  },
  {
   "cell_type": "markdown",
   "metadata": {},
   "source": [
    "И мы получили те значения, что больше 5 в виде одномерного массива.   <br/>\n",
    "Те элементы, под индексами которых в булевом массиве-маске красуется  <br/>\n",
    "True, попали в наш итоговый, можно сказать, отсеянный массив."
   ]
  },
  {
   "cell_type": "markdown",
   "metadata": {},
   "source": [
    "Теперь этот массив можно использовать там, где он может пригодиться. Например,  <br/>\n",
    "давай по такому же принципу вытянем интересные сводные показатели по Сиетлу."
   ]
  },
  {
   "cell_type": "code",
   "execution_count": 57,
   "metadata": {},
   "outputs": [
    {
     "name": "stdout",
     "output_type": "stream",
     "text": [
      "Seattle statistical summary, 2014.\n",
      "\n",
      "Median precip on rainy days in 2014 (inches):  0.19488188976377951\n",
      "Median precip on summer days in 2014 (inches):  0.0\n",
      "Maximum precip on summer days in 2014 (inches):  0.8503937007874016\n",
      "Median precip on non-summer rainy days (intches):  0.2047244094488189\n"
     ]
    }
   ],
   "source": [
    "rainy = rain_inches > 0  # дни, когда выпала хоть одна капля\n",
    "summer = (np.arange(365) >= 152) & (np.arange(365) <= 243) # 152 день - это 1 июня, а 243 - это 31 августа\n",
    "    # или мой медленный вариант - summer = np.array([152 <= i <= 243 for i in range(365)])\n",
    "    # как оказалось, ванильный range() работает гораздо быстрее np.arange()\n",
    "\n",
    "print(\"Seattle statistical summary, 2014.\", end=\"\\n\\n\")\n",
    "\n",
    "print(\"Median precip on rainy days in 2014 (inches): \", np.median(rain_inches[rainy]))\n",
    "print(\"Median precip on summer days in 2014 (inches): \", np.median(rain_inches[summer]))\n",
    "print(\"Maximum precip on summer days in 2014 (inches): \", np.max(rain_inches[summer]))\n",
    "print(\"Median precip on non-summer rainy days (intches): \", np.median(rain_inches[rainy & ~summer]))"
   ]
  },
  {
   "cell_type": "markdown",
   "metadata": {},
   "source": [
    "> Путём сочетания булевых операций, операций маскирования и агрегирования  <br/>\n",
    "> можно очень быстро и легко отвечать на подобные вопросы относительно нашего  <br/>\n",
    "> набора данных"
   ]
  },
  {
   "cell_type": "markdown",
   "metadata": {},
   "source": [
    "## Использование ключевых слов and/or по сравнению с использованием операторов &/|"
   ]
  },
  {
   "cell_type": "markdown",
   "metadata": {},
   "source": [
    "Ты, наверное, уже задавался вопросом, почему бы не использовать привычные `and` и `or`  <br/>\n",
    "для работы с булевыми массивами. Это может привести к путаннице."
   ]
  },
  {
   "cell_type": "markdown",
   "metadata": {},
   "source": [
    "А различие вот в чём: `and` и `or` определяют истенность всего объекта в целом,  <br/>\n",
    "а побитовые `&` и `|` работают с отдельными битами."
   ]
  },
  {
   "cell_type": "code",
   "execution_count": 32,
   "metadata": {},
   "outputs": [
    {
     "data": {
      "text/plain": [
       "(True, False)"
      ]
     },
     "execution_count": 32,
     "metadata": {},
     "output_type": "execute_result"
    }
   ],
   "source": [
    "bool(12), bool(0)"
   ]
  },
  {
   "cell_type": "code",
   "execution_count": 36,
   "metadata": {},
   "outputs": [
    {
     "data": {
      "text/plain": [
       "True"
      ]
     },
     "execution_count": 36,
     "metadata": {},
     "output_type": "execute_result"
    }
   ],
   "source": [
    "bool(12 or 0)  # 12 -> True  and   0 -> True"
   ]
  },
  {
   "cell_type": "code",
   "execution_count": 33,
   "metadata": {},
   "outputs": [
    {
     "data": {
      "text/plain": [
       "('0b1100', '0b0')"
      ]
     },
     "execution_count": 33,
     "metadata": {},
     "output_type": "execute_result"
    }
   ],
   "source": [
    "bin(12), bin(0)"
   ]
  },
  {
   "cell_type": "code",
   "execution_count": 40,
   "metadata": {},
   "outputs": [
    {
     "data": {
      "text/plain": [
       "True"
      ]
     },
     "execution_count": 40,
     "metadata": {},
     "output_type": "execute_result"
    }
   ],
   "source": [
    "bool(12 | 0)  # 12 -> 1100\n",
    "              # 0  -> 0000\n",
    "              #       1100 -> True"
   ]
  },
  {
   "cell_type": "markdown",
   "metadata": {},
   "source": [
    "Тоже самое происходит и с булевыми массивами. Их можно рассмотривать как набор битов."
   ]
  },
  {
   "cell_type": "code",
   "execution_count": 58,
   "metadata": {},
   "outputs": [
    {
     "data": {
      "text/plain": [
       "array([ True,  True, False,  True])"
      ]
     },
     "execution_count": 58,
     "metadata": {},
     "output_type": "execute_result"
    }
   ],
   "source": [
    "A = np.array([1, 1, 0, 0], dtype=\"bool\")  # 1100 -> 12\n",
    "B = np.array([0, 1, 0, 1], dtype=\"bool\")  # 0101 -> 5\n",
    "A | B  # -> 13"
   ]
  },
  {
   "cell_type": "markdown",
   "metadata": {},
   "source": [
    "Использование `and` и `or` для работы с массивами, даже булевыми, вызовет исключение."
   ]
  },
  {
   "cell_type": "code",
   "execution_count": 44,
   "metadata": {},
   "outputs": [
    {
     "ename": "ValueError",
     "evalue": "The truth value of an array with more than one element is ambiguous. Use a.any() or a.all()",
     "output_type": "error",
     "traceback": [
      "\u001b[1;31mValueError\u001b[0m\u001b[1;31m:\u001b[0m The truth value of an array with more than one element is ambiguous. Use a.any() or a.all()\n"
     ]
    }
   ],
   "source": [
    "A or B"
   ]
  },
  {
   "cell_type": "markdown",
   "metadata": {},
   "source": [
    "В общем, помни, что для работы с массивами тебе почти всегда нужны будут именно побитовые операторы."
   ]
  }
 ],
 "metadata": {
  "interpreter": {
   "hash": "98cb9c43b4ef2e905bd8cc8e12ac11ea5602c6caedd791714b8a631e711c40d6"
  },
  "kernelspec": {
   "display_name": "Python 3.9.6 64-bit",
   "name": "python3"
  },
  "language_info": {
   "name": "python",
   "version": ""
  }
 },
 "nbformat": 4,
 "nbformat_minor": 2
}