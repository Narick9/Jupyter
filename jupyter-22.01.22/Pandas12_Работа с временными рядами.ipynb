{
 "cells": [
  {
   "cell_type": "markdown",
   "metadata": {},
   "source": [
    "Muslimov Arthur, 23 April 2020"
   ]
  },
  {
   "cell_type": "markdown",
   "metadata": {},
   "source": [
    "Pandas разрабатывался в расчёте на построение финансовых моделей, так что,  \n",
    "как и можно было ожидать, он хорошо готов к работе с датой и временем.  \n",
    "Данные о дате и времени могут находится в нескольких форматах:\n",
    "\n",
    "- ***Метки даты / времени*** ссылаются на конкретные моменты времени (например,  \n",
    "  4 июля 2015 года в 07:00 утра)  \n",
    "- ***Временные интервалы и периоды*** ссылаются на отрезки времени между конкретными  \n",
    "  датами (например, 2015 год). Периоды обычно представляют собой особый случай  \n",
    "  интервалов, с непересекающимися интервалами одинаковой длительности (например, 24 ч)  \n",
    "- ***Временная дельта*** (она же ***продолжительность***) относится к отрезку времени  \n",
    "  конкретной длительности (например, 22,56 с)\n",
    "  \n",
    "Здесь ты увидишь как работать с каждым из этих типов временных данных. Этот краткий  \n",
    "раздел не претендует на роль исчерпывающего руководства по имеющимся в Python и  \n",
    "Pandas инструментам работы с временными рядами. Считай, что это краткая демонстрация  \n",
    "работы в общих чертах. Мы начнём с небольшого обсуждения средств для работы с датой и  \n",
    "временем в Python, прежде чем перейдём к непосредственно рассмотрению инструментов  \n",
    "Pandas. После перечеслению источников углублённой информации мы разберём несколько  \n",
    "простеньких примеров работы с данными временных рядов в библиотеке Pandas."
   ]
  },
  {
   "cell_type": "code",
   "execution_count": 8,
   "metadata": {},
   "outputs": [
    {
     "data": {
      "application/javascript": [
       "IPython.notebook.set_autosave_interval(0)"
      ]
     },
     "metadata": {},
     "output_type": "display_data"
    },
    {
     "name": "stdout",
     "output_type": "stream",
     "text": [
      "Autosave disabled\n",
      "Exception reporting mode: Plain\n"
     ]
    }
   ],
   "source": [
    "import pandas as pd\n",
    "\n",
    "%autosave 0\n",
    "%xmode Plain"
   ]
  },
  {
   "cell_type": "markdown",
   "metadata": {},
   "source": [
    "# Дата и время в языке Python"
   ]
  },
  {
   "cell_type": "markdown",
   "metadata": {},
   "source": [
    "В экосистеме Python существует немало представлений дат, времени, временных дельт  \n",
    "и периодов. Хотя в науке о данных наиболее удобны инструменты именно от Pandas,  \n",
    "не помешало бы посмотреть и на другие популярные пакеты Python."
   ]
  },
  {
   "cell_type": "markdown",
   "metadata": {},
   "source": [
    "### Нативные даты и время языка Python: пакеты datetime и dateutil"
   ]
  },
  {
   "cell_type": "markdown",
   "metadata": {},
   "source": [
    "Вместе с Python в крохотном пакете datetime поставляются базовые объекты  \n",
    "с датами и временем. Его, вместе с другим модулем dateutil, можно использовать  \n",
    "для быстрого выполнения множиства удобных операций над датами и временем.  \n",
    "Например, вот как можно вручную сформировать дату с помощью типа datetime:"
   ]
  },
  {
   "cell_type": "code",
   "execution_count": 12,
   "metadata": {},
   "outputs": [
    {
     "data": {
      "text/plain": [
       "datetime.datetime(2015, 7, 4, 0, 0)"
      ]
     },
     "execution_count": 12,
     "metadata": {},
     "output_type": "execute_result"
    }
   ],
   "source": [
    "from datetime import datetime\n",
    "datetime(year=2015, month=7, day=4)"
   ]
  },
  {
   "cell_type": "markdown",
   "metadata": {},
   "source": [
    "Или, как вариант, воспользоваться модулем dateutil  \n",
    "для синтаксического разбора строки:"
   ]
  },
  {
   "cell_type": "code",
   "execution_count": 62,
   "metadata": {},
   "outputs": [
    {
     "data": {
      "text/plain": [
       "datetime.datetime(2015, 7, 4, 0, 0)"
      ]
     },
     "execution_count": 62,
     "metadata": {},
     "output_type": "execute_result"
    }
   ],
   "source": [
    "from dateutil import parser\n",
    "date = parser.parse(\"4th of July, 2015\")\n",
    "date"
   ]
  },
  {
   "cell_type": "markdown",
   "metadata": {},
   "source": [
    "Раз мы получили объект datetime, можно сделать вывод дня недели:"
   ]
  },
  {
   "cell_type": "code",
   "execution_count": 65,
   "metadata": {},
   "outputs": [
    {
     "data": {
      "text/plain": [
       "'Saturday'"
      ]
     },
     "execution_count": 65,
     "metadata": {},
     "output_type": "execute_result"
    }
   ],
   "source": [
    "date.strftime('%A')"
   ]
  },
  {
   "cell_type": "markdown",
   "metadata": {},
   "source": [
    "Здесь `'%A'` - один из стандартных кодов форматирования временных строк,  \n",
    "о которых можно прочитать в документации пакета [datetime](https://pythonworld.ru/moduli/modul-datetime.html) языка Python.  \n",
    "Документацию по другим полезным возможностям для работы с датой и временем  \n",
    "можно найти в документации пакета [dateutil](https://dateutil.readthedocs.io/en/stable/).\n",
    "Не помешало бы также быть в  \n",
    "курсе связанного с ними модуля [pytz](https://dateutil.readthedocs.io/en/stable/tz.html),\n",
    "нацеленного на работу с часовыми поясами."
   ]
  },
  {
   "cell_type": "markdown",
   "metadata": {},
   "source": [
    "Сила пакетов datetime и dateutil в их удобстве: они позволят достичь  \n",
    "практически любой цели. Единственное, в чём они работают плохо - это  \n",
    "работа с большими массивами дат и времени. Как и в случае чисел,  \n",
    "типизированные массивы кодированных дат решают это проблему."
   ]
  },
  {
   "cell_type": "markdown",
   "metadata": {},
   "source": [
    "### Типизированные массивы значений времени: тип datetime64 библиотеки NumPy"
   ]
  }
 ],
 "metadata": {
  "kernelspec": {
   "display_name": "Python 3",
   "language": "python",
   "name": "python3"
  },
  "language_info": {
   "codemirror_mode": {
    "name": "ipython",
    "version": 3
   },
   "file_extension": ".py",
   "mimetype": "text/x-python",
   "name": "python",
   "nbconvert_exporter": "python",
   "pygments_lexer": "ipython3",
   "version": "3.7.6"
  }
 },
 "nbformat": 4,
 "nbformat_minor": 4
}
